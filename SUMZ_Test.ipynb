{
 "cells": [
  {
   "cell_type": "code",
   "execution_count": 36,
   "metadata": {},
   "outputs": [],
   "source": [
    "import requests\n",
    "import numpy as np\n",
    "import yfinance\n",
    "from yfinance import Ticker\n",
    "from yahoofinance import CashFlow"
   ]
  },
  {
   "cell_type": "markdown",
   "metadata": {},
   "source": [
    "Using Requests"
   ]
  },
  {
   "cell_type": "code",
   "execution_count": 55,
   "metadata": {},
   "outputs": [],
   "source": [
    "base = 'https://fmpcloud.io/api/v3/financials/cash-flow-statement'\n",
    "company = 'SAP'\n",
    "period = 'quarter'\n",
    "apikey = '3fc328fb4bdfc249db0c58927bacbb5c'"
   ]
  },
  {
   "cell_type": "code",
   "execution_count": 56,
   "metadata": {},
   "outputs": [],
   "source": [
    "address = f'{base}/{company}?period={period}&apikey={apikey}'"
   ]
  },
  {
   "cell_type": "code",
   "execution_count": 57,
   "metadata": {},
   "outputs": [],
   "source": [
    "r = requests.get(address)"
   ]
  },
  {
   "cell_type": "code",
   "execution_count": 58,
   "metadata": {},
   "outputs": [],
   "source": [
    "response = r.json()"
   ]
  },
  {
   "cell_type": "code",
   "execution_count": 61,
   "metadata": {},
   "outputs": [
    {
     "name": "stdout",
     "output_type": "stream",
     "text": [
      "{'symbol': 'SAP', 'financials': [{'date': '2019-06-30', 'Depreciation & Amortization': '1013449000.0', 'Stock-based compensation': '', 'Operating Cash Flow': '3026788000.0', 'Capital Expenditure': '-608973000.0', 'Acquisitions and disposals': '-6945004000.0', 'Investment purchases and sales': '', 'Investing Cash flow': '-7569794000.0', 'Issuance (repayment) of debt': '2732277272.2166', 'Issuance (buybacks) of shares': '0.0', 'Dividend payments': '0.0', 'Financing Cash Flow': '584117000.0', 'Effect of forex changes on cash': '50842000.0', 'Net cash flow / Change in cash': '-3908047000.0', 'Free Cash Flow': '', 'Net Cash/Marketcap': '-0.0429'}, {'date': '2019-03-31', 'Depreciation & Amortization': '502000000.0', 'Stock-based compensation': '', 'Operating Cash Flow': '3179485000.0', 'Capital Expenditure': '-407364000.0', 'Acquisitions and disposals': '-6857113000.0', 'Investment purchases and sales': '', 'Investing Cash flow': '-7377950000.0', 'Issuance (repayment) of debt': '4298145179.7573', 'Issuance (buybacks) of shares': '0.0', 'Dividend payments': '0.0', 'Financing Cash Flow': '2760774000.0', 'Effect of forex changes on cash': '-31772000.0', 'Net cash flow / Change in cash': '-1469462000.0', 'Free Cash Flow': '', 'Net Cash/Marketcap': '-0.0552'}, {'date': '2018-12-31', 'Depreciation & Amortization': '1604790000.0', 'Stock-based compensation': '', 'Operating Cash Flow': '5070053000.0', 'Capital Expenditure': '-1717903000.0', 'Acquisitions and disposals': '-2398937000.0', 'Investment purchases and sales': '', 'Investing Cash flow': '-3612545000.0', 'Issuance (repayment) of debt': '-167843500.4051', 'Issuance (buybacks) of shares': '0.0', 'Dividend payments': '0.0', 'Financing Cash Flow': '3868228000.0', 'Effect of forex changes on cash': '114291000.0', 'Net cash flow / Change in cash': '5440027000.0', 'Free Cash Flow': '', 'Net Cash/Marketcap': '-0.0265'}, {'date': '2018-09-30', 'Depreciation & Amortization': '408000000.0', 'Stock-based compensation': '', 'Operating Cash Flow': '4153694000.0', 'Capital Expenditure': '-1366284000.0', 'Acquisitions and disposals': '-2404708000.0', 'Investment purchases and sales': '', 'Investing Cash flow': '-3110502000.0', 'Issuance (repayment) of debt': '-151550477.9669', 'Issuance (buybacks) of shares': '0.0', 'Dividend payments': '-1948006528.3283', 'Financing Cash Flow': '-560343000.0', 'Effect of forex changes on cash': '108492000.0', 'Net cash flow / Change in cash': '591341000.0', 'Free Cash Flow': '', 'Net Cash/Marketcap': '-0.0233'}, {'date': '2018-06-30', 'Depreciation & Amortization': '766108000.0', 'Stock-based compensation': '', 'Operating Cash Flow': '3601313000.0', 'Capital Expenditure': '-986892000.0', 'Acquisitions and disposals': '-2406908000.0', 'Investment purchases and sales': '', 'Investing Cash flow': '-2688015000.0', 'Issuance (repayment) of debt': '', 'Issuance (buybacks) of shares': '', 'Dividend payments': '', 'Financing Cash Flow': '-389690000.0', 'Effect of forex changes on cash': '84453000.0', 'Net cash flow / Change in cash': '608061000.0', 'Free Cash Flow': '', 'Net Cash/Marketcap': '-0.0235'}]}\n"
     ]
    }
   ],
   "source": [
    "print(response)"
   ]
  },
  {
   "cell_type": "code",
   "execution_count": 59,
   "metadata": {},
   "outputs": [
    {
     "name": "stdout",
     "output_type": "stream",
     "text": [
      "\n"
     ]
    }
   ],
   "source": [
    "print(response['financials'][0]['Free Cash Flow'])"
   ]
  },
  {
   "cell_type": "code",
   "execution_count": 60,
   "metadata": {},
   "outputs": [
    {
     "ename": "ValueError",
     "evalue": "could not convert string to float: ",
     "output_type": "error",
     "traceback": [
      "\u001b[1;31m---------------------------------------------------------------------------\u001b[0m",
      "\u001b[1;31mValueError\u001b[0m                                Traceback (most recent call last)",
      "\u001b[1;32m<ipython-input-60-373f2f4c6b35>\u001b[0m in \u001b[0;36m<module>\u001b[1;34m\u001b[0m\n\u001b[1;32m----> 1\u001b[1;33m \u001b[0mcfs\u001b[0m \u001b[1;33m=\u001b[0m \u001b[0mnp\u001b[0m\u001b[1;33m.\u001b[0m\u001b[0marray\u001b[0m\u001b[1;33m(\u001b[0m\u001b[1;33m[\u001b[0m\u001b[0mcf\u001b[0m\u001b[1;33m[\u001b[0m\u001b[1;34m'Free Cash Flow'\u001b[0m\u001b[1;33m]\u001b[0m \u001b[1;32mfor\u001b[0m \u001b[0mcf\u001b[0m \u001b[1;32min\u001b[0m \u001b[0mresponse\u001b[0m\u001b[1;33m[\u001b[0m\u001b[1;34m'financials'\u001b[0m\u001b[1;33m]\u001b[0m\u001b[1;33m]\u001b[0m\u001b[1;33m)\u001b[0m\u001b[1;33m.\u001b[0m\u001b[0mastype\u001b[0m\u001b[1;33m(\u001b[0m\u001b[1;34m\"float64\"\u001b[0m\u001b[1;33m)\u001b[0m\u001b[1;33m.\u001b[0m\u001b[0mastype\u001b[0m\u001b[1;33m(\u001b[0m\u001b[1;34m'int64'\u001b[0m\u001b[1;33m)\u001b[0m\u001b[1;33m\u001b[0m\u001b[1;33m\u001b[0m\u001b[0m\n\u001b[0m",
      "\u001b[1;31mValueError\u001b[0m: could not convert string to float: "
     ]
    }
   ],
   "source": [
    "cfs = np.array([cf['Free Cash Flow'] for cf in response['financials']]).astype(\"float64\").astype('int64')"
   ]
  },
  {
   "cell_type": "code",
   "execution_count": 52,
   "metadata": {},
   "outputs": [
    {
     "data": {
      "text/plain": [
       "array([11458000000, 28409000000, 17133000000,  9636000000,  8792000000,\n",
       "       23335000000, 16482000000, 11221000000, 11089000000, 25329000000,\n",
       "       11656000000,  6003000000,  9508000000, 23636000000, 12088000000,\n",
       "        7729000000,  9002000000, 23457000000,  9817000000, 12899000000,\n",
       "       16605000000, 30457000000,  9398000000,  7824000000, 12052000000,\n",
       "       20626000000,  7602000000,  5812000000, 10205000000, 20971000000,\n",
       "        5635000000,  7226000000, 12468000000, 16125000000,  5858000000,\n",
       "       10146000000,  5563000000,  8510000000,  4870000000,  4175000000,\n",
       "        7429000000,  5400000000,  2638000000,  1968000000], dtype=int64)"
      ]
     },
     "execution_count": 52,
     "metadata": {},
     "output_type": "execute_result"
    }
   ],
   "source": [
    "cfs"
   ]
  },
  {
   "cell_type": "markdown",
   "metadata": {},
   "source": [
    "Using Yahoo Finance"
   ]
  },
  {
   "cell_type": "code",
   "execution_count": 10,
   "metadata": {},
   "outputs": [],
   "source": [
    "apple = Ticker(\"AAPL\")"
   ]
  },
  {
   "cell_type": "code",
   "execution_count": 14,
   "metadata": {},
   "outputs": [
    {
     "data": {
      "text/plain": [
       "{'zip': '95014',\n",
       " 'sector': 'Technology',\n",
       " 'fullTimeEmployees': 137000,\n",
       " 'longBusinessSummary': 'Apple Inc. designs, manufactures, and markets smartphones, personal computers, tablets, wearables, and accessories worldwide. It also sells various related services. The company offers iPhone, a line of smartphones; Mac, a line of personal computers; iPad, a line of multi-purpose tablets; and wearables, home, and accessories comprising AirPods, Apple TV, Apple Watch, Beats products, HomePod, iPod touch, and other Apple-branded and third-party accessories. It also provides digital content stores and streaming services; AppleCare support services; and iCloud, a cloud service, which stores music, photos, contacts, calendars, mail, documents, and others. In addition, the company offers various service, such as Apple Arcade, a game subscription service; Apple Card, a co-branded credit card; Apple News+, a subscription news and magazine service; and Apple Pay, a cashless payment service, as well as licenses its intellectual property, and provides other related services. The company serves consumers, and small and mid-sized businesses; and the education, enterprise, and government markets. It sells and delivers third-party applications for its products through the App Store, Mac App Store, and Watch App Store. The company also sells its products through its retail and online stores, and direct sales force; and third-party cellular network carriers, wholesalers, retailers, and resellers. Apple Inc. has a collaboration with Google to develop COVID-19 tracking system for Android and iOS devices. Apple Inc. was founded in 1977 and is headquartered in Cupertino, California.',\n",
       " 'city': 'Cupertino',\n",
       " 'phone': '408-996-1010',\n",
       " 'state': 'CA',\n",
       " 'country': 'United States',\n",
       " 'companyOfficers': [],\n",
       " 'website': 'http://www.apple.com',\n",
       " 'maxAge': 1,\n",
       " 'address1': 'One Apple Park Way',\n",
       " 'industry': 'Consumer Electronics',\n",
       " 'previousClose': 297.56,\n",
       " 'regularMarketOpen': 300.46,\n",
       " 'twoHundredDayAverage': 280.10052,\n",
       " 'trailingAnnualDividendYield': 0.010350853,\n",
       " 'payoutRatio': 0.2408,\n",
       " 'volume24Hr': None,\n",
       " 'regularMarketDayHigh': 302.93,\n",
       " 'navPrice': None,\n",
       " 'averageDailyVolume10Day': 38257242,\n",
       " 'totalAssets': None,\n",
       " 'regularMarketPreviousClose': 297.56,\n",
       " 'fiftyDayAverage': 265.87143,\n",
       " 'trailingAnnualDividendRate': 3.08,\n",
       " 'open': 300.46,\n",
       " 'toCurrency': None,\n",
       " 'averageVolume10days': 38257242,\n",
       " 'expireDate': None,\n",
       " 'yield': None,\n",
       " 'algorithm': None,\n",
       " 'dividendRate': 3.28,\n",
       " 'exDividendDate': 1588896000,\n",
       " 'beta': 1.170428,\n",
       " 'circulatingSupply': None,\n",
       " 'startDate': None,\n",
       " 'regularMarketDayLow': 298.87,\n",
       " 'priceHint': 2,\n",
       " 'currency': 'USD',\n",
       " 'trailingPE': 23.610937,\n",
       " 'regularMarketVolume': 10117522,\n",
       " 'lastMarket': None,\n",
       " 'maxSupply': None,\n",
       " 'openInterest': None,\n",
       " 'marketCap': 1302552772608,\n",
       " 'volumeAllCurrencies': None,\n",
       " 'strikePrice': None,\n",
       " 'averageVolume': 51041869,\n",
       " 'priceToSalesTrailing12Months': 4.860616,\n",
       " 'dayLow': 298.87,\n",
       " 'ask': 299.5,\n",
       " 'ytdReturn': None,\n",
       " 'askSize': 1200,\n",
       " 'volume': 10117522,\n",
       " 'fiftyTwoWeekHigh': 327.85,\n",
       " 'forwardPE': 20.401901,\n",
       " 'fromCurrency': None,\n",
       " 'fiveYearAvgDividendYield': 1.59,\n",
       " 'fiftyTwoWeekLow': 170.27,\n",
       " 'bid': 299.55,\n",
       " 'tradeable': False,\n",
       " 'dividendYield': 0.011,\n",
       " 'bidSize': 800,\n",
       " 'dayHigh': 302.93,\n",
       " 'exchange': 'NMS',\n",
       " 'shortName': 'Apple Inc.',\n",
       " 'longName': 'Apple Inc.',\n",
       " 'exchangeTimezoneName': 'America/New_York',\n",
       " 'exchangeTimezoneShortName': 'EDT',\n",
       " 'isEsgPopulated': False,\n",
       " 'gmtOffSetMilliseconds': '-14400000',\n",
       " 'quoteType': 'EQUITY',\n",
       " 'symbol': 'AAPL',\n",
       " 'messageBoardId': 'finmb_24937',\n",
       " 'market': 'us_market',\n",
       " 'annualHoldingsTurnover': None,\n",
       " 'enterpriseToRevenue': 4.905,\n",
       " 'beta3Year': None,\n",
       " 'profitMargins': 0.21350001,\n",
       " 'enterpriseToEbitda': 17.003,\n",
       " '52WeekChange': 0.46653533,\n",
       " 'morningStarRiskRating': None,\n",
       " 'forwardEps': 14.73,\n",
       " 'revenueQuarterlyGrowth': None,\n",
       " 'sharesOutstanding': 4334329856,\n",
       " 'fundInceptionDate': None,\n",
       " 'annualReportExpenseRatio': None,\n",
       " 'bookValue': 18.137,\n",
       " 'sharesShort': 34636195,\n",
       " 'sharesPercentSharesOut': 0.008,\n",
       " 'fundFamily': None,\n",
       " 'lastFiscalYearEnd': 1569628800,\n",
       " 'heldPercentInstitutions': 0.62204,\n",
       " 'netIncomeToCommon': 57215000576,\n",
       " 'trailingEps': 12.728,\n",
       " 'lastDividendValue': None,\n",
       " 'SandP52WeekChange': -0.0038132668,\n",
       " 'priceToBook': 16.569445,\n",
       " 'heldPercentInsiders': 0.00066,\n",
       " 'nextFiscalYearEnd': 1632787200,\n",
       " 'mostRecentQuarter': 1585353600,\n",
       " 'shortRatio': 0.61,\n",
       " 'sharesShortPreviousMonthDate': 1584057600,\n",
       " 'floatShares': 4329350515,\n",
       " 'enterpriseValue': 1314434711552,\n",
       " 'threeYearAverageReturn': None,\n",
       " 'lastSplitDate': 1402272000,\n",
       " 'lastSplitFactor': '7:1',\n",
       " 'legalType': None,\n",
       " 'morningStarOverallRating': None,\n",
       " 'earningsQuarterlyGrowth': -0.027,\n",
       " 'dateShortInterest': 1586908800,\n",
       " 'pegRatio': 2.05,\n",
       " 'lastCapGain': None,\n",
       " 'shortPercentOfFloat': 0.008,\n",
       " 'sharesShortPriorMonth': 38427917,\n",
       " 'category': None,\n",
       " 'fiveYearAverageReturn': None,\n",
       " 'regularMarketPrice': 300.46,\n",
       " 'logo_url': 'https://logo.clearbit.com/apple.com'}"
      ]
     },
     "execution_count": 14,
     "metadata": {},
     "output_type": "execute_result"
    }
   ],
   "source": [
    "apple.info"
   ]
  },
  {
   "cell_type": "code",
   "execution_count": 41,
   "metadata": {},
   "outputs": [],
   "source": [
    "from yahoofinance import CashFlowQuarterly"
   ]
  },
  {
   "cell_type": "code",
   "execution_count": 42,
   "metadata": {},
   "outputs": [],
   "source": [
    "sap_cf = CashFlowQuarterly(\"SAP\")"
   ]
  },
  {
   "cell_type": "code",
   "execution_count": 44,
   "metadata": {},
   "outputs": [
    {
     "data": {
      "text/plain": [
       "[{'investments': {'raw': -37000000, 'fmt': '-37M', 'longFmt': '-37,000,000'},\n",
       "  'changeToLiabilities': {'raw': 1616000000,\n",
       "   'fmt': '1.62B',\n",
       "   'longFmt': '1,616,000,000'},\n",
       "  'totalCashflowsFromInvestingActivities': {'raw': -373000000,\n",
       "   'fmt': '-373M',\n",
       "   'longFmt': '-373,000,000'},\n",
       "  'netBorrowings': {'raw': -73000000, 'fmt': '-73M', 'longFmt': '-73,000,000'},\n",
       "  'totalCashFromFinancingActivities': {'raw': -223000000,\n",
       "   'fmt': '-223M',\n",
       "   'longFmt': '-223,000,000'},\n",
       "  'changeToOperatingActivities': {'raw': -253000000,\n",
       "   'fmt': '-253M',\n",
       "   'longFmt': '-253,000,000'},\n",
       "  'netIncome': {'raw': 814000000, 'fmt': '814M', 'longFmt': '814,000,000'},\n",
       "  'changeInCash': {'raw': 2501000000,\n",
       "   'fmt': '2.5B',\n",
       "   'longFmt': '2,501,000,000'},\n",
       "  'endDate': {'raw': 1585612800, 'fmt': '2020-03-31'},\n",
       "  'repurchaseOfStock': {'raw': -150000000,\n",
       "   'fmt': '-150M',\n",
       "   'longFmt': '-150,000,000'},\n",
       "  'effectOfExchangeRate': {'raw': 113000000,\n",
       "   'fmt': '113M',\n",
       "   'longFmt': '113,000,000'},\n",
       "  'totalCashFromOperatingActivities': {'raw': 2984000000,\n",
       "   'fmt': '2.98B',\n",
       "   'longFmt': '2,984,000,000'},\n",
       "  'depreciation': {'raw': 464000000, 'fmt': '464M', 'longFmt': '464,000,000'},\n",
       "  'otherCashflowsFromInvestingActivities': {'raw': 1000000,\n",
       "   'fmt': '1M',\n",
       "   'longFmt': '1,000,000'},\n",
       "  'changeToAccountReceivables': {'raw': 522000000,\n",
       "   'fmt': '522M',\n",
       "   'longFmt': '522,000,000'},\n",
       "  'maxAge': 1,\n",
       "  'changeToNetincome': {'raw': -179000000,\n",
       "   'fmt': '-179M',\n",
       "   'longFmt': '-179,000,000'},\n",
       "  'capitalExpenditures': {'raw': -333000000,\n",
       "   'fmt': '-333M',\n",
       "   'longFmt': '-333,000,000'}},\n",
       " {'investments': {'raw': 88000000, 'fmt': '88M', 'longFmt': '88,000,000'},\n",
       "  'changeToLiabilities': {'raw': 45000000,\n",
       "   'fmt': '45M',\n",
       "   'longFmt': '45,000,000'},\n",
       "  'totalCashflowsFromInvestingActivities': {'raw': -36000000,\n",
       "   'fmt': '-36M',\n",
       "   'longFmt': '-36,000,000'},\n",
       "  'netBorrowings': {'raw': -279000000,\n",
       "   'fmt': '-279M',\n",
       "   'longFmt': '-279,000,000'},\n",
       "  'totalCashFromFinancingActivities': {'raw': -291000000,\n",
       "   'fmt': '-291M',\n",
       "   'longFmt': '-291,000,000'},\n",
       "  'changeToOperatingActivities': {'raw': 106000000,\n",
       "   'fmt': '106M',\n",
       "   'longFmt': '106,000,000'},\n",
       "  'netIncome': {'raw': 1620000000, 'fmt': '1.62B', 'longFmt': '1,620,000,000'},\n",
       "  'changeInCash': {'raw': -211000000,\n",
       "   'fmt': '-211M',\n",
       "   'longFmt': '-211,000,000'},\n",
       "  'endDate': {'raw': 1577750400, 'fmt': '2019-12-31'},\n",
       "  'repurchaseOfStock': {'raw': -150000000,\n",
       "   'fmt': '-150M',\n",
       "   'longFmt': '-150,000,000'},\n",
       "  'effectOfExchangeRate': {'raw': -64000000,\n",
       "   'fmt': '-64M',\n",
       "   'longFmt': '-64,000,000'},\n",
       "  'totalCashFromOperatingActivities': {'raw': 179000000,\n",
       "   'fmt': '179M',\n",
       "   'longFmt': '179,000,000'},\n",
       "  'depreciation': {'raw': 136000000, 'fmt': '136M', 'longFmt': '136,000,000'},\n",
       "  'otherCashflowsFromInvestingActivities': {'raw': 1000000,\n",
       "   'fmt': '1M',\n",
       "   'longFmt': '1,000,000'},\n",
       "  'changeToAccountReceivables': {'raw': -2137000000,\n",
       "   'fmt': '-2.14B',\n",
       "   'longFmt': '-2,137,000,000'},\n",
       "  'otherCashflowsFromFinancingActivities': {'raw': -12000000,\n",
       "   'fmt': '-12M',\n",
       "   'longFmt': '-12,000,000'},\n",
       "  'maxAge': 1,\n",
       "  'changeToNetincome': {'raw': 44000000,\n",
       "   'fmt': '44M',\n",
       "   'longFmt': '44,000,000'},\n",
       "  'capitalExpenditures': {'raw': -114000000,\n",
       "   'fmt': '-114M',\n",
       "   'longFmt': '-114,000,000'}},\n",
       " {'investments': {'raw': -100000000,\n",
       "   'fmt': '-100M',\n",
       "   'longFmt': '-100,000,000'},\n",
       "  'changeToLiabilities': {'raw': -1094000000,\n",
       "   'fmt': '-1.09B',\n",
       "   'longFmt': '-1,094,000,000'},\n",
       "  'totalCashflowsFromInvestingActivities': {'raw': -285000000,\n",
       "   'fmt': '-285M',\n",
       "   'longFmt': '-285,000,000'},\n",
       "  'netBorrowings': {'raw': -120000000,\n",
       "   'fmt': '-120M',\n",
       "   'longFmt': '-120,000,000'},\n",
       "  'totalCashFromFinancingActivities': {'raw': -124000000,\n",
       "   'fmt': '-124M',\n",
       "   'longFmt': '-124,000,000'},\n",
       "  'changeToOperatingActivities': {'raw': -276000000,\n",
       "   'fmt': '-276M',\n",
       "   'longFmt': '-276,000,000'},\n",
       "  'netIncome': {'raw': 1246000000, 'fmt': '1.25B', 'longFmt': '1,246,000,000'},\n",
       "  'changeInCash': {'raw': 357000000, 'fmt': '357M', 'longFmt': '357,000,000'},\n",
       "  'endDate': {'raw': 1569801600, 'fmt': '2019-09-30'},\n",
       "  'repurchaseOfStock': {'raw': -150000000,\n",
       "   'fmt': '-150M',\n",
       "   'longFmt': '-150,000,000'},\n",
       "  'effectOfExchangeRate': {'raw': 129000000,\n",
       "   'fmt': '129M',\n",
       "   'longFmt': '129,000,000'},\n",
       "  'totalCashFromOperatingActivities': {'raw': 638000000,\n",
       "   'fmt': '638M',\n",
       "   'longFmt': '638,000,000'},\n",
       "  'depreciation': {'raw': 474000000, 'fmt': '474M', 'longFmt': '474,000,000'},\n",
       "  'otherCashflowsFromInvestingActivities': {'raw': 1000000,\n",
       "   'fmt': '1M',\n",
       "   'longFmt': '1,000,000'},\n",
       "  'changeToAccountReceivables': {'raw': 314000000,\n",
       "   'fmt': '314M',\n",
       "   'longFmt': '314,000,000'},\n",
       "  'otherCashflowsFromFinancingActivities': {'raw': -4000000,\n",
       "   'fmt': '-4M',\n",
       "   'longFmt': '-4,000,000'},\n",
       "  'maxAge': 1,\n",
       "  'changeToNetincome': {'raw': -26000000,\n",
       "   'fmt': '-26M',\n",
       "   'longFmt': '-26,000,000'},\n",
       "  'capitalExpenditures': {'raw': -164000000,\n",
       "   'fmt': '-164M',\n",
       "   'longFmt': '-164,000,000'}},\n",
       " {'investments': {'raw': 74000000, 'fmt': '74M', 'longFmt': '74,000,000'},\n",
       "  'changeToLiabilities': {'raw': -766000000,\n",
       "   'fmt': '-766M',\n",
       "   'longFmt': '-766,000,000'},\n",
       "  'totalCashflowsFromInvestingActivities': {'raw': -198000000,\n",
       "   'fmt': '-198M',\n",
       "   'longFmt': '-198,000,000'},\n",
       "  'netBorrowings': {'raw': -123000000,\n",
       "   'fmt': '-123M',\n",
       "   'longFmt': '-123,000,000'},\n",
       "  'totalCashFromFinancingActivities': {'raw': -1916000000,\n",
       "   'fmt': '-1.92B',\n",
       "   'longFmt': '-1,916,000,000'},\n",
       "  'changeToOperatingActivities': {'raw': -251000000,\n",
       "   'fmt': '-251M',\n",
       "   'longFmt': '-251,000,000'},\n",
       "  'netIncome': {'raw': 569000000, 'fmt': '569M', 'longFmt': '569,000,000'},\n",
       "  'changeInCash': {'raw': -2164000000,\n",
       "   'fmt': '-2.16B',\n",
       "   'longFmt': '-2,164,000,000'},\n",
       "  'endDate': {'raw': 1561852800, 'fmt': '2019-06-30'},\n",
       "  'repurchaseOfStock': {'raw': -150000000,\n",
       "   'fmt': '-150M',\n",
       "   'longFmt': '-150,000,000'},\n",
       "  'effectOfExchangeRate': {'raw': 73000000,\n",
       "   'fmt': '73M',\n",
       "   'longFmt': '73,000,000'},\n",
       "  'totalCashFromOperatingActivities': {'raw': -123000000,\n",
       "   'fmt': '-123M',\n",
       "   'longFmt': '-123,000,000'},\n",
       "  'depreciation': {'raw': 455000000, 'fmt': '455M', 'longFmt': '455,000,000'},\n",
       "  'otherCashflowsFromInvestingActivities': {'raw': -1000000,\n",
       "   'fmt': '-1M',\n",
       "   'longFmt': '-1,000,000'},\n",
       "  'dividendsPaid': {'raw': -1790000000,\n",
       "   'fmt': '-1.79B',\n",
       "   'longFmt': '-1,790,000,000'},\n",
       "  'changeToAccountReceivables': {'raw': 611000000,\n",
       "   'fmt': '611M',\n",
       "   'longFmt': '611,000,000'},\n",
       "  'otherCashflowsFromFinancingActivities': {'raw': -3000000,\n",
       "   'fmt': '-3M',\n",
       "   'longFmt': '-3,000,000'},\n",
       "  'maxAge': 1,\n",
       "  'changeToNetincome': {'raw': -741000000,\n",
       "   'fmt': '-741M',\n",
       "   'longFmt': '-741,000,000'},\n",
       "  'capitalExpenditures': {'raw': -180000000,\n",
       "   'fmt': '-180M',\n",
       "   'longFmt': '-180,000,000'}}]"
      ]
     },
     "execution_count": 44,
     "metadata": {},
     "output_type": "execute_result"
    }
   ],
   "source": [
    "sap_cf.cashflow"
   ]
  },
  {
   "cell_type": "code",
   "execution_count": null,
   "metadata": {},
   "outputs": [],
   "source": []
  }
 ],
 "metadata": {
  "kernelspec": {
   "display_name": "Python 3",
   "language": "python",
   "name": "python3"
  },
  "language_info": {
   "codemirror_mode": {
    "name": "ipython",
    "version": 3
   },
   "file_extension": ".py",
   "mimetype": "text/x-python",
   "name": "python",
   "nbconvert_exporter": "python",
   "pygments_lexer": "ipython3",
   "version": "3.7.4"
  }
 },
 "nbformat": 4,
 "nbformat_minor": 4
}
