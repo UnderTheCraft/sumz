{
 "cells": [
  {
   "cell_type": "code",
   "execution_count": 1,
   "metadata": {},
   "outputs": [],
   "source": [
    "import requests\n",
    "import numpy as np\n",
    "import yfinance"
   ]
  },
  {
   "cell_type": "markdown",
   "metadata": {},
   "source": [
    "# Using Requests"
   ]
  },
  {
   "cell_type": "code",
   "execution_count": 114,
   "metadata": {},
   "outputs": [],
   "source": [
    "base = 'https://fmpcloud.io/api/v3/financials/cash-flow-statement'\n",
    "company = 'BAS'\n",
    "period = 'quarter'\n",
    "apikey = '3fc328fb4bdfc249db0c58927bacbb5c'\n",
    "\n",
    "address = f'{base}/{company}?period={period}&apikey={apikey}'"
   ]
  },
  {
   "cell_type": "code",
   "execution_count": 115,
   "metadata": {},
   "outputs": [],
   "source": [
    "r = requests.get(address)\n",
    "response = r.json()"
   ]
  },
  {
   "cell_type": "code",
   "execution_count": 116,
   "metadata": {},
   "outputs": [
    {
     "name": "stdout",
     "output_type": "stream",
     "text": [
      "{'symbol': 'BAS', 'financials': [{'date': '2019-09-30', 'Depreciation & Amortization': '30033000.0', 'Stock-based compensation': '1633000.0', 'Operating Cash Flow': '17262000.0', 'Capital Expenditure': '12904000.0', 'Acquisitions and disposals': '0.0', 'Investment purchases and sales': '-3439000.0', 'Investing Cash flow': '-11202000.0', 'Issuance (repayment) of debt': '-5875000.0', 'Issuance (buybacks) of shares': '-3439000.0', 'Dividend payments': '0.0', 'Financing Cash Flow': '-9314000.0', 'Effect of forex changes on cash': '0.0', 'Net cash flow / Change in cash': '-3254000.0', 'Free Cash Flow': '4358000.0', 'Net Cash/Marketcap': '0.0'}, {'date': '2019-06-30', 'Depreciation & Amortization': '58169000.0', 'Stock-based compensation': '6604000.0', 'Operating Cash Flow': '11250000.0', 'Capital Expenditure': '33359000.0', 'Acquisitions and disposals': '0.0', 'Investment purchases and sales': '-1683000.0', 'Investing Cash flow': '-28350000.0', 'Issuance (repayment) of debt': '-17334000.0', 'Issuance (buybacks) of shares': '-1683000.0', 'Dividend payments': '0.0', 'Financing Cash Flow': '-19486000.0', 'Effect of forex changes on cash': '0.0', 'Net cash flow / Change in cash': '53714000.0', 'Free Cash Flow': '-22109000.0', 'Net Cash/Marketcap': '0.0'}, {'date': '2019-05-09', 'Depreciation & Amortization': '0.0', 'Stock-based compensation': '0.0', 'Operating Cash Flow': '0.0', 'Capital Expenditure': '0.0', 'Acquisitions and disposals': '-0.0', 'Investment purchases and sales': '0.0', 'Investing Cash flow': '0.0', 'Issuance (repayment) of debt': '-0.0', 'Issuance (buybacks) of shares': '0.0', 'Dividend payments': '-0.0', 'Financing Cash Flow': '0.0', 'Effect of forex changes on cash': '0.0', 'Net cash flow / Change in cash': '0.0', 'Free Cash Flow': '0.0', 'Net Cash/Marketcap': '0.0'}, {'date': '2019-03-31', 'Depreciation & Amortization': '27498000.0', 'Stock-based compensation': '3288000.0', 'Operating Cash Flow': '1804000.0', 'Capital Expenditure': '-18885000.0', 'Acquisitions and disposals': '0.0', 'Investment purchases and sales': '0.0', 'Investing Cash flow': '-16221000.0', 'Issuance (repayment) of debt': '-11423000.0', 'Issuance (buybacks) of shares': '-343000.0', 'Dividend payments': '0.0', 'Financing Cash Flow': '-12087000.0', 'Effect of forex changes on cash': '0.0', 'Net cash flow / Change in cash': '-26504000.0', 'Free Cash Flow': '-17081000.0', 'Net Cash/Marketcap': '-2.9688'}, {'date': '2018-12-31', 'Depreciation & Amortization': '33054000.0', 'Stock-based compensation': '5259000.0', 'Operating Cash Flow': '17957000.0', 'Capital Expenditure': '20121000.0', 'Acquisitions and disposals': '0.0', 'Investment purchases and sales': '-165000.0', 'Investing Cash flow': '-4278000.0', 'Issuance (repayment) of debt': '-268616000.0', 'Issuance (buybacks) of shares': '-165000.0', 'Dividend payments': '0.0', 'Financing Cash Flow': '777000.0', 'Effect of forex changes on cash': '0.0', 'Net cash flow / Change in cash': '-71767000.0', 'Free Cash Flow': '-2164000.0', 'Net Cash/Marketcap': '0.0'}, {'date': '2018-09-30', 'Depreciation & Amortization': '33934000.0', 'Stock-based compensation': '5571000.0', 'Operating Cash Flow': '31258000.0', 'Capital Expenditure': '16891000.0', 'Acquisitions and disposals': '0.0', 'Investment purchases and sales': '-376000.0', 'Investing Cash flow': '-15948000.0', 'Issuance (repayment) of debt': '-23173000.0', 'Issuance (buybacks) of shares': '-376000.0', 'Dividend payments': '0.0', 'Financing Cash Flow': '-17274000.0', 'Effect of forex changes on cash': '0.0', 'Net cash flow / Change in cash': '-1964000.0', 'Free Cash Flow': '14367000.0', 'Net Cash/Marketcap': '0.0'}, {'date': '2018-06-30', 'Depreciation & Amortization': '32625000.0', 'Stock-based compensation': '9626000.0', 'Operating Cash Flow': '20576000.0', 'Capital Expenditure': '16285000.0', 'Acquisitions and disposals': '0.0', 'Investment purchases and sales': '1000.0', 'Investing Cash flow': '-15484000.0', 'Issuance (repayment) of debt': '-13483000.0', 'Issuance (buybacks) of shares': '1000.0', 'Dividend payments': '0.0', 'Financing Cash Flow': '-8842000.0', 'Effect of forex changes on cash': '0.0', 'Net cash flow / Change in cash': '-3750000.0', 'Free Cash Flow': '4291000.0', 'Net Cash/Marketcap': '0.0'}, {'date': '2018-03-31', 'Depreciation & Amortization': '31885000.0', 'Stock-based compensation': '6798000.0', 'Operating Cash Flow': '4548000.0', 'Capital Expenditure': '15412000.0', 'Acquisitions and disposals': '-0.0', 'Investment purchases and sales': '-1342000.0', 'Investing Cash flow': '-15214000.0', 'Issuance (repayment) of debt': '-13657000.0', 'Issuance (buybacks) of shares': '-1342000.0', 'Dividend payments': '-0.0', 'Financing Cash Flow': '6001000.0', 'Effect of forex changes on cash': '0.0', 'Net cash flow / Change in cash': '81558000.0', 'Free Cash Flow': '-10864000.0', 'Net Cash/Marketcap': '0.0'}, {'date': '2017-12-31', 'Depreciation & Amortization': '33158000.0', 'Stock-based compensation': '6339000.0', 'Operating Cash Flow': '24122000.0', 'Capital Expenditure': '15066000.0', 'Acquisitions and disposals': '0.0', 'Investment purchases and sales': '-1997000.0', 'Investing Cash flow': '-13086000.0', 'Issuance (repayment) of debt': '-12940000.0', 'Issuance (buybacks) of shares': '-1997000.0', 'Dividend payments': '0.0', 'Financing Cash Flow': '-15684000.0', 'Effect of forex changes on cash': '0.0', 'Net cash flow / Change in cash': '-4648000.0', 'Free Cash Flow': '9056000.0', 'Net Cash/Marketcap': '0.0'}, {'date': '2017-09-30', 'Depreciation & Amortization': '31259000.0', 'Stock-based compensation': '5892000.0', 'Operating Cash Flow': '15218000.0', 'Capital Expenditure': '14550000.0', 'Acquisitions and disposals': '0.0', 'Investment purchases and sales': '0.0', 'Investing Cash flow': '-11692000.0', 'Issuance (repayment) of debt': '-11383000.0', 'Issuance (buybacks) of shares': '0.0', 'Dividend payments': '0.0', 'Financing Cash Flow': '5398000.0', 'Effect of forex changes on cash': '0.0', 'Net cash flow / Change in cash': '8924000.0', 'Free Cash Flow': '668000.0', 'Net Cash/Marketcap': '0.0'}, {'date': '2017-06-30', 'Depreciation & Amortization': '53352000.0', 'Stock-based compensation': '7107000.0', 'Operating Cash Flow': '-13393000.0', 'Capital Expenditure': '33502000.0', 'Acquisitions and disposals': '0.0', 'Investment purchases and sales': '-38000.0', 'Investing Cash flow': '-79409000.0', 'Issuance (repayment) of debt': '-22266000.0', 'Issuance (buybacks) of shares': '50602000.0', 'Dividend payments': '0.0', 'Financing Cash Flow': '-22469000.0', 'Effect of forex changes on cash': '0.0', 'Net cash flow / Change in cash': '-115271000.0', 'Free Cash Flow': '-46895000.0', 'Net Cash/Marketcap': '0.0'}, {'date': '2017-03-31', 'Depreciation & Amortization': '1898000.0', 'Stock-based compensation': '3616000.0', 'Operating Cash Flow': '0.0', 'Capital Expenditure': '243000.0', 'Acquisitions and disposals': '-0.0', 'Investment purchases and sales': '0.0', 'Investing Cash flow': '50640000.0', 'Issuance (repayment) of debt': '-0.0', 'Issuance (buybacks) of shares': '-50640000.0', 'Dividend payments': '-0.0', 'Financing Cash Flow': '0.0', 'Effect of forex changes on cash': '0.0', 'Net cash flow / Change in cash': '50640000.0', 'Free Cash Flow': '-243000.0', 'Net Cash/Marketcap': '0.0'}, {'date': '2016-12-31', 'Depreciation & Amortization': '53931000.0', 'Stock-based compensation': '10320000.0', 'Operating Cash Flow': '-79684000.0', 'Capital Expenditure': '9782000.0', 'Acquisitions and disposals': '0.0', 'Investment purchases and sales': '3477000.0', 'Investing Cash flow': '-9279000.0', 'Issuance (repayment) of debt': '-46919000.0', 'Issuance (buybacks) of shares': '3477000.0', 'Dividend payments': '0.0', 'Financing Cash Flow': '153500000.0', 'Effect of forex changes on cash': '0.0', 'Net cash flow / Change in cash': '64537000.0', 'Free Cash Flow': '-89466000.0', 'Net Cash/Marketcap': '0.0'}, {'date': '2016-09-30', 'Depreciation & Amortization': '54670000.0', 'Stock-based compensation': '2238000.0', 'Operating Cash Flow': '-29797000.0', 'Capital Expenditure': '11346000.0', 'Acquisitions and disposals': '0.0', 'Investment purchases and sales': '0.0', 'Investing Cash flow': '-10016000.0', 'Issuance (repayment) of debt': '-12540000.0', 'Issuance (buybacks) of shares': '0.0', 'Dividend payments': '0.0', 'Financing Cash Flow': '-11949000.0', 'Effect of forex changes on cash': '0.0', 'Net cash flow / Change in cash': '-51762000.0', 'Free Cash Flow': '-41143000.0', 'Net Cash/Marketcap': '0.0'}, {'date': '2016-06-30', 'Depreciation & Amortization': '56272000.0', 'Stock-based compensation': '2276000.0', 'Operating Cash Flow': '-21219000.0', 'Capital Expenditure': '6984000.0', 'Acquisitions and disposals': '0.0', 'Investment purchases and sales': '-2000.0', 'Investing Cash flow': '77560000.0', 'Issuance (repayment) of debt': '-12638000.0', 'Issuance (buybacks) of shares': '-2000.0', 'Dividend payments': '0.0', 'Financing Cash Flow': '-45324000.0', 'Effect of forex changes on cash': '0.0', 'Net cash flow / Change in cash': '11017000.0', 'Free Cash Flow': '-28203000.0', 'Net Cash/Marketcap': '0.0'}, {'date': '2016-03-31', 'Depreciation & Amortization': '59075000.0', 'Stock-based compensation': '2841000.0', 'Operating Cash Flow': '-20789000.0', 'Capital Expenditure': '4577000.0', 'Acquisitions and disposals': '-0.0', 'Investment purchases and sales': '-638000.0', 'Investing Cash flow': '-87670000.0', 'Issuance (repayment) of debt': '-12784000.0', 'Issuance (buybacks) of shares': '-638000.0', 'Dividend payments': '-0.0', 'Financing Cash Flow': '136810000.0', 'Effect of forex changes on cash': '0.0', 'Net cash flow / Change in cash': '28351000.0', 'Free Cash Flow': '-25366000.0', 'Net Cash/Marketcap': '0.0'}, {'date': '2015-12-31', 'Depreciation & Amortization': '60707000.0', 'Stock-based compensation': '3191000.0', 'Operating Cash Flow': '2468000.0', 'Capital Expenditure': '6580000.0', 'Acquisitions and disposals': '0.0', 'Investment purchases and sales': '-1116000.0', 'Investing Cash flow': '-6029000.0', 'Issuance (repayment) of debt': '-13268000.0', 'Issuance (buybacks) of shares': '8884000.0', 'Dividend payments': '0.0', 'Financing Cash Flow': '-5679000.0', 'Effect of forex changes on cash': '0.0', 'Net cash flow / Change in cash': '-9240000.0', 'Free Cash Flow': '-4112000.0', 'Net Cash/Marketcap': '0.0'}, {'date': '2015-09-30', 'Depreciation & Amortization': '61566000.0', 'Stock-based compensation': '3298000.0', 'Operating Cash Flow': '4955000.0', 'Capital Expenditure': '12465000.0', 'Acquisitions and disposals': '-16730000.0', 'Investment purchases and sales': '-64000.0', 'Investing Cash flow': '-28048000.0', 'Issuance (repayment) of debt': '-12256000.0', 'Issuance (buybacks) of shares': '-64000.0', 'Dividend payments': '0.0', 'Financing Cash Flow': '-12757000.0', 'Effect of forex changes on cash': '0.0', 'Net cash flow / Change in cash': '-35850000.0', 'Free Cash Flow': '-7510000.0', 'Net Cash/Marketcap': '0.0'}, {'date': '2015-06-30', 'Depreciation & Amortization': '60949000.0', 'Stock-based compensation': '3270000.0', 'Operating Cash Flow': '22339000.0', 'Capital Expenditure': '8962000.0', 'Acquisitions and disposals': '0.0', 'Investment purchases and sales': '-72000.0', 'Investing Cash flow': '-5812000.0', 'Issuance (repayment) of debt': '-28753000.0', 'Issuance (buybacks) of shares': '-72000.0', 'Dividend payments': '0.0', 'Financing Cash Flow': '-29641000.0', 'Effect of forex changes on cash': '0.0', 'Net cash flow / Change in cash': '-13114000.0', 'Free Cash Flow': '13377000.0', 'Net Cash/Marketcap': '0.0'}, {'date': '2015-03-31', 'Depreciation & Amortization': '61610000.0', 'Stock-based compensation': '3969000.0', 'Operating Cash Flow': '65777000.0', 'Capital Expenditure': '25861000.0', 'Acquisitions and disposals': '-0.0', 'Investment purchases and sales': '-4490000.0', 'Investing Cash flow': '-22600000.0', 'Issuance (repayment) of debt': '-14358000.0', 'Issuance (buybacks) of shares': '-4490000.0', 'Dividend payments': '-0.0', 'Financing Cash Flow': '-18156000.0', 'Effect of forex changes on cash': '0.0', 'Net cash flow / Change in cash': '25021000.0', 'Free Cash Flow': '39916000.0', 'Net Cash/Marketcap': '0.0'}, {'date': '2014-12-31', 'Depreciation & Amortization': '60207000.0', 'Stock-based compensation': '3782000.0', 'Operating Cash Flow': '92752000.0', 'Capital Expenditure': '51370000.0', 'Acquisitions and disposals': '0.0', 'Investment purchases and sales': '-6418000.0', 'Investing Cash flow': '-47885000.0', 'Issuance (repayment) of debt': '-13669000.0', 'Issuance (buybacks) of shares': '3582000.0', 'Dividend payments': '0.0', 'Financing Cash Flow': '-22402000.0', 'Effect of forex changes on cash': '0.0', 'Net cash flow / Change in cash': '22465000.0', 'Free Cash Flow': '41382000.0', 'Net Cash/Marketcap': '0.0'}, {'date': '2014-09-30', 'Depreciation & Amortization': '55230000.0', 'Stock-based compensation': '3811000.0', 'Operating Cash Flow': '37773000.0', 'Capital Expenditure': '77541000.0', 'Acquisitions and disposals': '-16090000.0', 'Investment purchases and sales': '-72000.0', 'Investing Cash flow': '-83362000.0', 'Issuance (repayment) of debt': '-11879000.0', 'Issuance (buybacks) of shares': '-72000.0', 'Dividend payments': '0.0', 'Financing Cash Flow': '4045000.0', 'Effect of forex changes on cash': '0.0', 'Net cash flow / Change in cash': '-41544000.0', 'Free Cash Flow': '-39768000.0', 'Net Cash/Marketcap': '0.0'}, {'date': '2014-06-30', 'Depreciation & Amortization': '52531000.0', 'Stock-based compensation': '3733000.0', 'Operating Cash Flow': '65444000.0', 'Capital Expenditure': '74278000.0', 'Acquisitions and disposals': '0.0', 'Investment purchases and sales': '1000.0', 'Investing Cash flow': '-72010000.0', 'Issuance (repayment) of debt': '-11222000.0', 'Issuance (buybacks) of shares': '1000.0', 'Dividend payments': '0.0', 'Financing Cash Flow': '-11067000.0', 'Effect of forex changes on cash': '0.0', 'Net cash flow / Change in cash': '-17633000.0', 'Free Cash Flow': '-8834000.0', 'Net Cash/Marketcap': '0.0'}, {'date': '2014-03-31', 'Depreciation & Amortization': '52446000.0', 'Stock-based compensation': '3388000.0', 'Operating Cash Flow': '28567000.0', 'Capital Expenditure': '33106000.0', 'Acquisitions and disposals': '-0.0', 'Investment purchases and sales': '-6244000.0', 'Investing Cash flow': '-10172000.0', 'Issuance (repayment) of debt': '-11124000.0', 'Issuance (buybacks) of shares': '-6244000.0', 'Dividend payments': '-0.0', 'Financing Cash Flow': '-13300000.0', 'Effect of forex changes on cash': '0.0', 'Net cash flow / Change in cash': '5095000.0', 'Free Cash Flow': '-4539000.0', 'Net Cash/Marketcap': '0.0'}, {'date': '2013-12-31', 'Depreciation & Amortization': '55020000.0', 'Stock-based compensation': '2864000.0', 'Operating Cash Flow': '58434000.0', 'Capital Expenditure': '32921000.0', 'Acquisitions and disposals': '-5200000.0', 'Investment purchases and sales': '-43000.0', 'Investing Cash flow': '-35759000.0', 'Issuance (repayment) of debt': '-11529000.0', 'Issuance (buybacks) of shares': '9957000.0', 'Dividend payments': '0.0', 'Financing Cash Flow': '-11312000.0', 'Effect of forex changes on cash': '0.0', 'Net cash flow / Change in cash': '11363000.0', 'Free Cash Flow': '25513000.0', 'Net Cash/Marketcap': '0.0'}, {'date': '2013-09-30', 'Depreciation & Amortization': '54353000.0', 'Stock-based compensation': '2837000.0', 'Operating Cash Flow': '38785000.0', 'Capital Expenditure': '26430000.0', 'Acquisitions and disposals': '196000.0', 'Investment purchases and sales': '-34000.0', 'Investing Cash flow': '-22589000.0', 'Issuance (repayment) of debt': '-11236000.0', 'Issuance (buybacks) of shares': '-34000.0', 'Dividend payments': '0.0', 'Financing Cash Flow': '-11646000.0', 'Effect of forex changes on cash': '0.0', 'Net cash flow / Change in cash': '4550000.0', 'Free Cash Flow': '12355000.0', 'Net Cash/Marketcap': '0.0'}, {'date': '2013-06-30', 'Depreciation & Amortization': '52770000.0', 'Stock-based compensation': '3312000.0', 'Operating Cash Flow': '58885000.0', 'Capital Expenditure': '37726000.0', 'Acquisitions and disposals': '1000.0', 'Investment purchases and sales': '-28000.0', 'Investing Cash flow': '-33874000.0', 'Issuance (repayment) of debt': '-11004000.0', 'Issuance (buybacks) of shares': '-28000.0', 'Dividend payments': '0.0', 'Financing Cash Flow': '-10881000.0', 'Effect of forex changes on cash': '0.0', 'Net cash flow / Change in cash': '14130000.0', 'Free Cash Flow': '21159000.0', 'Net Cash/Marketcap': '0.0'}, {'date': '2013-03-31', 'Depreciation & Amortization': '50482000.0', 'Stock-based compensation': '2817000.0', 'Operating Cash Flow': '9484000.0', 'Capital Expenditure': '39873000.0', 'Acquisitions and disposals': '-16464000.0', 'Investment purchases and sales': '-3500000.0', 'Investing Cash flow': '-47464000.0', 'Issuance (repayment) of debt': '-11628000.0', 'Issuance (buybacks) of shares': '-3500000.0', 'Dividend payments': '-0.0', 'Financing Cash Flow': '-15096000.0', 'Effect of forex changes on cash': '0.0', 'Net cash flow / Change in cash': '-53076000.0', 'Free Cash Flow': '-30389000.0', 'Net Cash/Marketcap': '0.0'}, {'date': '2012-12-31', 'Depreciation & Amortization': '49975000.0', 'Stock-based compensation': '3024000.0', 'Operating Cash Flow': '70110000.0', 'Capital Expenditure': '44746000.0', 'Acquisitions and disposals': '-41822000.0', 'Investment purchases and sales': '-9207000.0', 'Investing Cash flow': '-85990000.0', 'Issuance (repayment) of debt': '-236351000.0', 'Issuance (buybacks) of shares': '6428000.0', 'Dividend payments': '0.0', 'Financing Cash Flow': '46883000.0', 'Effect of forex changes on cash': '0.0', 'Net cash flow / Change in cash': '31003000.0', 'Free Cash Flow': '25364000.0', 'Net Cash/Marketcap': '0.0'}, {'date': '2012-09-30', 'Depreciation & Amortization': '48921000.0', 'Stock-based compensation': '2993000.0', 'Operating Cash Flow': '56032000.0', 'Capital Expenditure': '39961000.0', 'Acquisitions and disposals': '-1348000.0', 'Investment purchases and sales': '-6453000.0', 'Investing Cash flow': '-40138000.0', 'Issuance (repayment) of debt': '-10732000.0', 'Issuance (buybacks) of shares': '-6453000.0', 'Dividend payments': '0.0', 'Financing Cash Flow': '-15881000.0', 'Effect of forex changes on cash': '0.0', 'Net cash flow / Change in cash': '13000.0', 'Free Cash Flow': '16071000.0', 'Net Cash/Marketcap': '0.0'}, {'date': '2012-06-30', 'Depreciation & Amortization': '46183000.0', 'Stock-based compensation': '3199000.0', 'Operating Cash Flow': '112318000.0', 'Capital Expenditure': '39910000.0', 'Acquisitions and disposals': '-23185000.0', 'Investment purchases and sales': '-5189000.0', 'Investing Cash flow': '-61043000.0', 'Issuance (repayment) of debt': '-10222000.0', 'Issuance (buybacks) of shares': '-5189000.0', 'Dividend payments': '0.0', 'Financing Cash Flow': '-14956000.0', 'Effect of forex changes on cash': '0.0', 'Net cash flow / Change in cash': '36319000.0', 'Free Cash Flow': '72408000.0', 'Net Cash/Marketcap': '0.0'}, {'date': '2012-03-31', 'Depreciation & Amortization': '44627000.0', 'Stock-based compensation': '2173000.0', 'Operating Cash Flow': '65221000.0', 'Capital Expenditure': '46823000.0', 'Acquisitions and disposals': '-18584000.0', 'Investment purchases and sales': '-3283000.0', 'Investing Cash flow': '-63591000.0', 'Issuance (repayment) of debt': '-9644000.0', 'Issuance (buybacks) of shares': '-3283000.0', 'Dividend payments': '-0.0', 'Financing Cash Flow': '-12858000.0', 'Effect of forex changes on cash': '0.0', 'Net cash flow / Change in cash': '-11228000.0', 'Free Cash Flow': '18398000.0', 'Net Cash/Marketcap': '0.0'}, {'date': '2011-12-31', 'Depreciation & Amortization': '163075000.0', 'Stock-based compensation': '7955000.0', 'Operating Cash Flow': '279455000.0', 'Capital Expenditure': '221839000.0', 'Acquisitions and disposals': '-218347000.0', 'Investment purchases and sales': '-1872000.0', 'Investing Cash flow': '-419967000.0', 'Issuance (repayment) of debt': '-278696000.0', 'Issuance (buybacks) of shares': '8128000.0', 'Dividend payments': '0.0', 'Financing Cash Flow': '171052000.0', 'Effect of forex changes on cash': '0.0', 'Net cash flow / Change in cash': '30540000.0', 'Free Cash Flow': '57616000.0', 'Net Cash/Marketcap': '0.0'}, {'date': '2011-09-30', 'Depreciation & Amortization': '0.0', 'Stock-based compensation': '0.0', 'Operating Cash Flow': '0.0', 'Capital Expenditure': '0.0', 'Acquisitions and disposals': '0.0', 'Investment purchases and sales': '0.0', 'Investing Cash flow': '0.0', 'Issuance (repayment) of debt': '0.0', 'Issuance (buybacks) of shares': '0.0', 'Dividend payments': '0.0', 'Financing Cash Flow': '0.0', 'Effect of forex changes on cash': '0.0', 'Net cash flow / Change in cash': '0.0', 'Free Cash Flow': '0.0', 'Net Cash/Marketcap': '0.0'}, {'date': '2011-06-30', 'Depreciation & Amortization': '-72843000.0', 'Stock-based compensation': '-9156000.0', 'Operating Cash Flow': '-20187000.0', 'Capital Expenditure': '-55353000.0', 'Acquisitions and disposals': '0.0', 'Investment purchases and sales': '5121000.0', 'Investing Cash flow': '39316000.0', 'Issuance (repayment) of debt': '29364000.0', 'Issuance (buybacks) of shares': '5121000.0', 'Dividend payments': '0.0', 'Financing Cash Flow': '34954000.0', 'Effect of forex changes on cash': '0.0', 'Net cash flow / Change in cash': '54083000.0', 'Free Cash Flow': '35166000.0', 'Net Cash/Marketcap': '0.0'}, {'date': '2011-03-31', 'Depreciation & Amortization': '32980000.0', 'Stock-based compensation': '-275000.0', 'Operating Cash Flow': '21002000.0', 'Capital Expenditure': '-72442000.0', 'Acquisitions and disposals': '-10000.0', 'Investment purchases and sales': '0.0', 'Investing Cash flow': '-55905000.0', 'Issuance (repayment) of debt': '8930000.0', 'Issuance (buybacks) of shares': '-1715000.0', 'Dividend payments': '0.0', 'Financing Cash Flow': '750000.0', 'Effect of forex changes on cash': '0.0', 'Net cash flow / Change in cash': '-34153000.0', 'Free Cash Flow': '-51440000.0', 'Net Cash/Marketcap': '-0.5185'}, {'date': '2010-12-31', 'Depreciation & Amortization': '33682000.0', 'Stock-based compensation': '1535000.0', 'Operating Cash Flow': '22215000.0', 'Capital Expenditure': '-19976000.0', 'Acquisitions and disposals': '-39966000.0', 'Investment purchases and sales': '0.0', 'Investing Cash flow': '-45405000.0', 'Issuance (repayment) of debt': '-7697000.0', 'Issuance (buybacks) of shares': '-18000.0', 'Dividend payments': '0.0', 'Financing Cash Flow': '-7518000.0', 'Effect of forex changes on cash': '0.0', 'Net cash flow / Change in cash': '-30708000.0', 'Free Cash Flow': '2239000.0', 'Net Cash/Marketcap': '-0.6648'}, {'date': '2010-09-30', 'Depreciation & Amortization': '33971000.0', 'Stock-based compensation': '1474000.0', 'Operating Cash Flow': '28764000.0', 'Capital Expenditure': '-18048000.0', 'Acquisitions and disposals': '0.0', 'Investment purchases and sales': '0.0', 'Investing Cash flow': '-16920000.0', 'Issuance (repayment) of debt': '-6751000.0', 'Issuance (buybacks) of shares': '-25000.0', 'Dividend payments': '0.0', 'Financing Cash Flow': '-6993000.0', 'Effect of forex changes on cash': '0.0', 'Net cash flow / Change in cash': '4851000.0', 'Free Cash Flow': '10716000.0', 'Net Cash/Marketcap': '-1.1483'}, {'date': '2010-06-30', 'Depreciation & Amortization': '34250000.0', 'Stock-based compensation': '1448000.0', 'Operating Cash Flow': '-999000.0', 'Capital Expenditure': '-14463000.0', 'Acquisitions and disposals': '-9625000.0', 'Investment purchases and sales': '0.0', 'Investing Cash flow': '-23949000.0', 'Issuance (repayment) of debt': '-7197000.0', 'Issuance (buybacks) of shares': '-19000.0', 'Dividend payments': '0.0', 'Financing Cash Flow': '-7192000.0', 'Effect of forex changes on cash': '0.0', 'Net cash flow / Change in cash': '-32140000.0', 'Free Cash Flow': '-15462000.0', 'Net Cash/Marketcap': '-1.2824'}, {'date': '2010-03-31', 'Depreciation & Amortization': '33098000.0', 'Stock-based compensation': '1501000.0', 'Operating Cash Flow': '-597000.0', 'Capital Expenditure': '-11092000.0', 'Acquisitions and disposals': '-687000.0', 'Investment purchases and sales': '0.0', 'Investing Cash flow': '-11605000.0', 'Issuance (repayment) of debt': '-6608000.0', 'Issuance (buybacks) of shares': '-297000.0', 'Dividend payments': '0.0', 'Financing Cash Flow': '-7240000.0', 'Effect of forex changes on cash': '0.0', 'Net cash flow / Change in cash': '-19442000.0', 'Free Cash Flow': '-11689000.0', 'Net Cash/Marketcap': '-1.2118'}, {'date': '2009-12-31', 'Depreciation & Amortization': '33915000.0', 'Stock-based compensation': '1224000.0', 'Operating Cash Flow': '11181000.0', 'Capital Expenditure': '-8568000.0', 'Acquisitions and disposals': '-6626000.0', 'Investment purchases and sales': '0.0', 'Investing Cash flow': '-13490000.0', 'Issuance (repayment) of debt': '-9142000.0', 'Issuance (buybacks) of shares': '-12000.0', 'Dividend payments': '0.0', 'Financing Cash Flow': '-9360000.0', 'Effect of forex changes on cash': '0.0', 'Net cash flow / Change in cash': '-11669000.0', 'Free Cash Flow': '2613000.0', 'Net Cash/Marketcap': '-1.0029'}, {'date': '2009-09-30', 'Depreciation & Amortization': '33455000.0', 'Stock-based compensation': '1297000.0', 'Operating Cash Flow': '4975000.0', 'Capital Expenditure': '-9612000.0', 'Acquisitions and disposals': '0.0', 'Investment purchases and sales': '0.0', 'Investing Cash flow': '-23914000.0', 'Issuance (repayment) of debt': '26771000.0', 'Issuance (buybacks) of shares': '-35000.0', 'Dividend payments': '0.0', 'Financing Cash Flow': '21661000.0', 'Effect of forex changes on cash': '0.0', 'Net cash flow / Change in cash': '2722000.0', 'Free Cash Flow': '-4637000.0', 'Net Cash/Marketcap': '-1.0029'}, {'date': '2009-06-30', 'Depreciation & Amortization': '32413000.0', 'Stock-based compensation': '1321000.0', 'Operating Cash Flow': '12212000.0', 'Capital Expenditure': '-11403000.0', 'Acquisitions and disposals': '-40000.0', 'Investment purchases and sales': '0.0', 'Investing Cash flow': '-10645000.0', 'Issuance (repayment) of debt': '-7546000.0', 'Issuance (buybacks) of shares': '-24000.0', 'Dividend payments': '0.0', 'Financing Cash Flow': '-10124000.0', 'Effect of forex changes on cash': '0.0', 'Net cash flow / Change in cash': '-8557000.0', 'Free Cash Flow': '809000.0', 'Net Cash/Marketcap': '-0.5718'}]}\n"
     ]
    }
   ],
   "source": [
    "print(response)"
   ]
  },
  {
   "cell_type": "code",
   "execution_count": 118,
   "metadata": {},
   "outputs": [
    {
     "name": "stdout",
     "output_type": "stream",
     "text": [
      "-22109000.0\n"
     ]
    }
   ],
   "source": [
    "print(response['financials'][1]['Free Cash Flow'])"
   ]
  },
  {
   "cell_type": "code",
   "execution_count": 119,
   "metadata": {},
   "outputs": [],
   "source": [
    "cfs = np.array([cf['Free Cash Flow'] for cf in response['financials']]).astype(\"float64\").astype('int64')"
   ]
  },
  {
   "cell_type": "code",
   "execution_count": 120,
   "metadata": {},
   "outputs": [
    {
     "data": {
      "text/plain": [
       "array([  4358000, -22109000,         0, -17081000,  -2164000,  14367000,\n",
       "         4291000, -10864000,   9056000,    668000, -46895000,   -243000,\n",
       "       -89466000, -41143000, -28203000, -25366000,  -4112000,  -7510000,\n",
       "        13377000,  39916000,  41382000, -39768000,  -8834000,  -4539000,\n",
       "        25513000,  12355000,  21159000, -30389000,  25364000,  16071000,\n",
       "        72408000,  18398000,  57616000,         0,  35166000, -51440000,\n",
       "         2239000,  10716000, -15462000, -11689000,   2613000,  -4637000,\n",
       "          809000], dtype=int64)"
      ]
     },
     "execution_count": 120,
     "metadata": {},
     "output_type": "execute_result"
    }
   ],
   "source": [
    "cfs"
   ]
  },
  {
   "cell_type": "markdown",
   "metadata": {},
   "source": [
    "# Using Yahoo Finance"
   ]
  },
  {
   "cell_type": "code",
   "execution_count": 50,
   "metadata": {},
   "outputs": [],
   "source": [
    "from yfinance import Ticker"
   ]
  },
  {
   "cell_type": "code",
   "execution_count": 86,
   "metadata": {},
   "outputs": [],
   "source": [
    "daxCompanies = [\"1COV.DE\", \"ALV.DE\", \"BEI.DE\",\"BMW.DE\",\"CON.DE\", \"DAI.DE\",\"DB1.DE\",\"DBK.DE\",\"DPW.DE\",\"DTE.DE\", \"FME.DE\",\"HEI.DE\", \"IFX.DE\",\"LHA.DE\",\"LIN.DE\",\"MRK.DE\",\"MTX.DE\",\"MUV2.DE\",\"RWE.DE\",\"SAP.DE\",\"SIE.DE\",\"VOW3.DE\",\"WDI.DE\"]\n",
    "notWorking = [\"ADS.DE\", \"BAS.DE\", \"BAYN.DE\", \"EOAN.DE\", \"FRE.DE\", \"HEN3.DE\", \"VNA.DE\"]"
   ]
  },
  {
   "cell_type": "code",
   "execution_count": 89,
   "metadata": {},
   "outputs": [
    {
     "name": "stdout",
     "output_type": "stream",
     "text": [
      "Covestro AG | Kurs 29.85 EUR:     \n",
      "  Marktkapitalisierung: 5741701632 EUR     \n",
      "  Unternehmenswert: 6856114688 EUR     \n",
      "  Float Shares: 168864565\n",
      "Allianz SE | Kurs 165 EUR:     \n",
      "  Marktkapitalisierung: 69260091392 EUR     \n",
      "  Unternehmenswert: 81289887744 EUR     \n",
      "  Float Shares: 416556353\n",
      "Beiersdorf Aktiengesellschaft | Kurs 94.3 EUR:     \n",
      "  Marktkapitalisierung: 20690429952 EUR     \n",
      "  Unternehmenswert: 19131527168 EUR     \n",
      "  Float Shares: 98273861\n",
      "Bayerische Motoren Werke Aktiengesellschaft | Kurs 52.3 EUR:     \n",
      "  Marktkapitalisierung: 33437396992 EUR     \n",
      "  Unternehmenswert: 33314140160 EUR     \n",
      "  Float Shares: 431425361\n",
      "Continental Aktiengesellschaft | Kurs 74.72 EUR:     \n",
      "  Marktkapitalisierung: 15427296256 EUR     \n",
      "  Unternehmenswert: 19718047744 EUR     \n",
      "  Float Shares: 107937229\n",
      "Daimler AG | Kurs 30.1 EUR:     \n",
      "  Marktkapitalisierung: 32468430848 EUR     \n",
      "  Unternehmenswert: 171246370816 EUR     \n",
      "  Float Shares: 806629200\n",
      "Deutsche Borse AG | Kurs 138.15 EUR:     \n",
      "  Marktkapitalisierung: 27303405568 EUR     \n",
      "  Unternehmenswert: 27179440128 EUR     \n",
      "  Float Shares: None\n",
      "Deutsche Bank Aktiengesellschaft | Kurs 6.501 EUR:     \n",
      "  Marktkapitalisierung: 13443262464 EUR     \n",
      "  Unternehmenswert: -36941971456 EUR     \n",
      "  Float Shares: 2041672672\n",
      "Deutsche Post AG | Kurs 26.49 EUR:     \n",
      "  Marktkapitalisierung: 32852477952 EUR     \n",
      "  Unternehmenswert: 46549032960 EUR     \n",
      "  Float Shares: 981252418\n",
      "Deutsche Telekom AG | Kurs 13.055 EUR:     \n",
      "  Marktkapitalisierung: 61492088832 EUR     \n",
      "  Unternehmenswert: 156469837824 EUR     \n",
      "  Float Shares: 4053311181\n",
      "Fresenius Medical Care AG & Co. KGaA | Kurs 70.16 EUR:     \n",
      "  Marktkapitalisierung: 21721812992 EUR     \n",
      "  Unternehmenswert: 21617397760 EUR     \n",
      "  Float Shares: 203676508\n",
      "HeidelbergCement AG | Kurs 41.91 EUR:     \n",
      "  Marktkapitalisierung: 8398949888 EUR     \n",
      "  Unternehmenswert: 18264336384 EUR     \n",
      "  Float Shares: 144929347\n",
      "Infineon Technologies AG | Kurs 17.828 EUR:     \n",
      "  Marktkapitalisierung: 22784256000 EUR     \n",
      "  Unternehmenswert: 16613919744 EUR     \n",
      "  Float Shares: 1245000000\n",
      "Deutsche Lufthansa AG | Kurs 7.84 EUR:     \n",
      "  Marktkapitalisierung: 3778688768 EUR     \n",
      "  Unternehmenswert: 10512392192 EUR     \n",
      "  Float Shares: 430374831\n",
      "Linde plc | Kurs 164.8 EUR:     \n",
      "  Marktkapitalisierung: 87463419904 EUR     \n",
      "  Unternehmenswert: 104090402816 EUR     \n",
      "  Float Shares: 531227617\n",
      "MERCK Kommanditgesellschaft auf Aktien | Kurs 103.35 EUR:     \n",
      "  Marktkapitalisierung: 46390808576 EUR     \n",
      "  Unternehmenswert: 58996711424 EUR     \n",
      "  Float Shares: 129242072\n",
      "MULTI-UNITS LUXEMBOURG - Lyxor Euro Government Bond (DR) UCITS ETF - Acc | Kurs 124.7 EUR:     \n",
      "  Marktkapitalisierung: 6531720704 EUR     \n",
      "  Unternehmenswert: None EUR     \n",
      "  Float Shares: None\n",
      "Munchener Ruckversicherungs-Gesellschaft Aktiengesellschaft | Kurs 195.3 EUR:     \n",
      "  Marktkapitalisierung: 27457579008 EUR     \n",
      "  Unternehmenswert: 24898705408 EUR     \n",
      "  Float Shares: 141423818\n",
      "RWE Aktiengesellschaft | Kurs 25.66 EUR:     \n",
      "  Marktkapitalisierung: 16567378944 EUR     \n",
      "  Unternehmenswert: 16090050560 EUR     \n",
      "  Float Shares: 559418404\n",
      "SAP SE | Kurs 106.2 EUR:     \n",
      "  Marktkapitalisierung: 129320042496 EUR     \n",
      "  Unternehmenswert: 134960300032 EUR     \n",
      "  Float Shares: 1091182290\n",
      "Siemens Aktiengesellschaft | Kurs 82.4 EUR:     \n",
      "  Marktkapitalisierung: 67394719744 EUR     \n",
      "  Unternehmenswert: 98564718592 EUR     \n",
      "  Float Shares: 813171927\n",
      "Volkswagen AG | Kurs 125.2 EUR:     \n",
      "  Marktkapitalisierung: 66142498816 EUR     \n",
      "  Unternehmenswert: 236412321792 EUR     \n",
      "  Float Shares: 235418281\n",
      "Wirecard AG | Kurs 88 EUR:     \n",
      "  Marktkapitalisierung: 10318996480 EUR     \n",
      "  Unternehmenswert: 8179705344 EUR     \n",
      "  Float Shares: 114854212\n"
     ]
    }
   ],
   "source": [
    "for company in daxCompanies:\n",
    "    companyTicker = Ticker(company)\n",
    "    \n",
    "    print(f\"{companyTicker.info.get('longName')} | Kurs {companyTicker.info.get('open')} {companyTicker.info.get('currency')}: \\\n",
    "    \\n  Marktkapitalisierung: {companyTicker.info.get('marketCap')} {companyTicker.info.get('currency')} \\\n",
    "    \\n  Unternehmenswert: {companyTicker.info.get('enterpriseValue')} {companyTicker.info.get('currency')} \\\n",
    "    \\n  Float Shares: {companyTicker.info.get('floatShares')}\")"
   ]
  },
  {
   "cell_type": "code",
   "execution_count": 88,
   "metadata": {
    "scrolled": true
   },
   "outputs": [
    {
     "data": {
      "text/plain": [
       "{'zip': '69190',\n",
       " 'sector': 'Technology',\n",
       " 'fullTimeEmployees': 101150,\n",
       " 'longBusinessSummary': \"SAP SE operates as an enterprise application software, and analytics and business intelligence company worldwide. The company operates through three segments: Applications, Technology & Services; Intelligent Spend Group; and Qualtrics. It offers SAP HANA, which enables transactional processing for data capture and retrieval, and analytical processing for business intelligence and reporting; SAP solutions for enterprise information management; business analytics tools; SAP BusinessObjects business intelligence (BI) suite; SAP data warehouse cloud; SAP BW/4HANA, an on premise data warehouse solution; and SAP cloud platform. The company also provides SAP Leonardo IoT solutions designed to embed device and telemetry data into SAP applications; SAP Leonardo artificial intelligence; SAP Leonardo blockchain; SAP C/4HANA, a customer experience suite; SAP S/4HANA intelligent ERP suite; SAP integrated business planning cloud-based solution for supply chain; SAP intelligent asset management solutions; and SAP SuccessFactors human experience management suite for developing, managing, engaging, and empowering people. In addition, it offers SAP Ariba solutions that offer an online business-to-business marketplace; SAP Concur solutions aim to deliver a connected spend management system; SAP Fieldglass solutions, which are cloud-based applications for contingent workforce management and services procurement; and SAP digital business services comprising Premium Success, Project Success, and Continuous Success, as well as intelligent tools to help guide and deliver application management and administrative support for the company's service offerings. SAP SE was founded in 1972 and is headquartered in Walldorf, Germany.\",\n",
       " 'city': 'Walldorf',\n",
       " 'phone': '49 6227 7 47474',\n",
       " 'country': 'Germany',\n",
       " 'companyOfficers': [],\n",
       " 'website': 'http://www.sap.com',\n",
       " 'maxAge': 1,\n",
       " 'address1': 'Dietmar-Hopp-Allee 16',\n",
       " 'fax': '49 6227 7 57575',\n",
       " 'industry': 'Software—Application',\n",
       " 'previousClose': 108.94,\n",
       " 'regularMarketOpen': 106.2,\n",
       " 'twoHundredDayAverage': 115.9617,\n",
       " 'trailingAnnualDividendYield': 0.014503396,\n",
       " 'payoutRatio': 0.5396,\n",
       " 'volume24Hr': None,\n",
       " 'regularMarketDayHigh': 107.28,\n",
       " 'navPrice': None,\n",
       " 'averageDailyVolume10Day': 3305827,\n",
       " 'totalAssets': None,\n",
       " 'regularMarketPreviousClose': 108.94,\n",
       " 'fiftyDayAverage': 104.03559,\n",
       " 'trailingAnnualDividendRate': 1.58,\n",
       " 'open': 106.2,\n",
       " 'toCurrency': None,\n",
       " 'averageVolume10days': 3305827,\n",
       " 'expireDate': None,\n",
       " 'yield': None,\n",
       " 'algorithm': None,\n",
       " 'dividendRate': 1.58,\n",
       " 'exDividendDate': 1590019200,\n",
       " 'beta': 0.971597,\n",
       " 'circulatingSupply': None,\n",
       " 'startDate': None,\n",
       " 'regularMarketDayLow': 105.28,\n",
       " 'priceHint': 2,\n",
       " 'currency': 'EUR',\n",
       " 'trailingPE': 29.806232,\n",
       " 'regularMarketVolume': 1950346,\n",
       " 'lastMarket': None,\n",
       " 'maxSupply': None,\n",
       " 'openInterest': None,\n",
       " 'marketCap': 126694014976,\n",
       " 'volumeAllCurrencies': None,\n",
       " 'strikePrice': None,\n",
       " 'averageVolume': 4654077,\n",
       " 'priceToSalesTrailing12Months': 4.527535,\n",
       " 'dayLow': 105.28,\n",
       " 'ask': 106.22,\n",
       " 'ytdReturn': None,\n",
       " 'askSize': 56500,\n",
       " 'volume': 1950346,\n",
       " 'fiftyTwoWeekHigh': 129.6,\n",
       " 'forwardPE': None,\n",
       " 'fromCurrency': None,\n",
       " 'fiveYearAvgDividendYield': 1.44,\n",
       " 'fiftyTwoWeekLow': 82.13,\n",
       " 'bid': 106.16,\n",
       " 'tradeable': False,\n",
       " 'dividendYield': 0.015,\n",
       " 'bidSize': 76700,\n",
       " 'dayHigh': 107.28,\n",
       " 'exchange': 'GER',\n",
       " 'shortName': 'SAP SE O.N.',\n",
       " 'longName': 'SAP SE',\n",
       " 'exchangeTimezoneName': 'Europe/Berlin',\n",
       " 'exchangeTimezoneShortName': 'CEST',\n",
       " 'isEsgPopulated': False,\n",
       " 'gmtOffSetMilliseconds': '7200000',\n",
       " 'quoteType': 'EQUITY',\n",
       " 'symbol': 'SAP.DE',\n",
       " 'messageBoardId': 'finmb_126475',\n",
       " 'market': 'de_market',\n",
       " 'annualHoldingsTurnover': None,\n",
       " 'enterpriseToRevenue': 4.823,\n",
       " 'beta3Year': None,\n",
       " 'profitMargins': 0.15184,\n",
       " 'enterpriseToEbitda': 18.744,\n",
       " '52WeekChange': -0.014898241,\n",
       " 'morningStarRiskRating': None,\n",
       " 'forwardEps': None,\n",
       " 'revenueQuarterlyGrowth': None,\n",
       " 'sharesOutstanding': 1193650048,\n",
       " 'fundInceptionDate': None,\n",
       " 'annualReportExpenseRatio': None,\n",
       " 'bookValue': 25.774,\n",
       " 'sharesShort': None,\n",
       " 'sharesPercentSharesOut': None,\n",
       " 'fundFamily': None,\n",
       " 'lastFiscalYearEnd': 1577750400,\n",
       " 'heldPercentInstitutions': 0.36900002,\n",
       " 'netIncomeToCommon': 4248999936,\n",
       " 'trailingEps': 3.561,\n",
       " 'lastDividendValue': None,\n",
       " 'SandP52WeekChange': -0.0077680945,\n",
       " 'priceToBook': 4.1181035,\n",
       " 'heldPercentInsiders': 0.10933,\n",
       " 'nextFiscalYearEnd': 1640908800,\n",
       " 'mostRecentQuarter': 1585612800,\n",
       " 'shortRatio': None,\n",
       " 'sharesShortPreviousMonthDate': None,\n",
       " 'floatShares': 1091182290,\n",
       " 'enterpriseValue': 134960300032,\n",
       " 'threeYearAverageReturn': None,\n",
       " 'lastSplitDate': 961977600,\n",
       " 'lastSplitFactor': '3:1',\n",
       " 'legalType': None,\n",
       " 'morningStarOverallRating': None,\n",
       " 'earningsQuarterlyGrowth': None,\n",
       " 'dateShortInterest': None,\n",
       " 'pegRatio': None,\n",
       " 'lastCapGain': None,\n",
       " 'shortPercentOfFloat': None,\n",
       " 'sharesShortPriorMonth': None,\n",
       " 'category': None,\n",
       " 'fiveYearAverageReturn': None,\n",
       " 'regularMarketPrice': 106.2,\n",
       " 'logo_url': 'https://logo.clearbit.com/sap.com'}"
      ]
     },
     "execution_count": 88,
     "metadata": {},
     "output_type": "execute_result"
    }
   ],
   "source": [
    "companyTicker = Ticker(\"SAP.DE\")\n",
    "companyTicker.info"
   ]
  },
  {
   "cell_type": "code",
   "execution_count": 39,
   "metadata": {},
   "outputs": [
    {
     "data": {
      "text/html": [
       "<div>\n",
       "<style scoped>\n",
       "    .dataframe tbody tr th:only-of-type {\n",
       "        vertical-align: middle;\n",
       "    }\n",
       "\n",
       "    .dataframe tbody tr th {\n",
       "        vertical-align: top;\n",
       "    }\n",
       "\n",
       "    .dataframe thead th {\n",
       "        text-align: right;\n",
       "    }\n",
       "</style>\n",
       "<table border=\"1\" class=\"dataframe\">\n",
       "  <thead>\n",
       "    <tr style=\"text-align: right;\">\n",
       "      <th></th>\n",
       "      <th>Open</th>\n",
       "      <th>High</th>\n",
       "      <th>Low</th>\n",
       "      <th>Close</th>\n",
       "      <th>Volume</th>\n",
       "      <th>Dividends</th>\n",
       "      <th>Stock Splits</th>\n",
       "    </tr>\n",
       "    <tr>\n",
       "      <th>Date</th>\n",
       "      <th></th>\n",
       "      <th></th>\n",
       "      <th></th>\n",
       "      <th></th>\n",
       "      <th></th>\n",
       "      <th></th>\n",
       "      <th></th>\n",
       "    </tr>\n",
       "  </thead>\n",
       "  <tbody>\n",
       "    <tr>\n",
       "      <td>1995-09-01</td>\n",
       "      <td>9.32</td>\n",
       "      <td>9.85</td>\n",
       "      <td>8.44</td>\n",
       "      <td>9.43</td>\n",
       "      <td>1629600.0</td>\n",
       "      <td>0.000000</td>\n",
       "      <td>0.0</td>\n",
       "    </tr>\n",
       "    <tr>\n",
       "      <td>1995-12-01</td>\n",
       "      <td>9.41</td>\n",
       "      <td>9.85</td>\n",
       "      <td>8.58</td>\n",
       "      <td>9.10</td>\n",
       "      <td>1482800.0</td>\n",
       "      <td>0.000000</td>\n",
       "      <td>0.0</td>\n",
       "    </tr>\n",
       "    <tr>\n",
       "      <td>1996-03-01</td>\n",
       "      <td>9.26</td>\n",
       "      <td>9.26</td>\n",
       "      <td>6.99</td>\n",
       "      <td>8.00</td>\n",
       "      <td>6588800.0</td>\n",
       "      <td>0.000000</td>\n",
       "      <td>0.0</td>\n",
       "    </tr>\n",
       "    <tr>\n",
       "      <td>1996-06-01</td>\n",
       "      <td>8.53</td>\n",
       "      <td>9.79</td>\n",
       "      <td>7.83</td>\n",
       "      <td>9.76</td>\n",
       "      <td>3802400.0</td>\n",
       "      <td>0.000000</td>\n",
       "      <td>0.0</td>\n",
       "    </tr>\n",
       "    <tr>\n",
       "      <td>1996-06-24</td>\n",
       "      <td>NaN</td>\n",
       "      <td>NaN</td>\n",
       "      <td>NaN</td>\n",
       "      <td>NaN</td>\n",
       "      <td>NaN</td>\n",
       "      <td>0.399321</td>\n",
       "      <td>0.0</td>\n",
       "    </tr>\n",
       "    <tr>\n",
       "      <td>...</td>\n",
       "      <td>...</td>\n",
       "      <td>...</td>\n",
       "      <td>...</td>\n",
       "      <td>...</td>\n",
       "      <td>...</td>\n",
       "      <td>...</td>\n",
       "      <td>...</td>\n",
       "    </tr>\n",
       "    <tr>\n",
       "      <td>2019-06-01</td>\n",
       "      <td>124.43</td>\n",
       "      <td>140.62</td>\n",
       "      <td>116.49</td>\n",
       "      <td>119.15</td>\n",
       "      <td>52960600.0</td>\n",
       "      <td>0.000000</td>\n",
       "      <td>0.0</td>\n",
       "    </tr>\n",
       "    <tr>\n",
       "      <td>2019-09-01</td>\n",
       "      <td>118.81</td>\n",
       "      <td>137.12</td>\n",
       "      <td>112.80</td>\n",
       "      <td>135.95</td>\n",
       "      <td>44453000.0</td>\n",
       "      <td>0.000000</td>\n",
       "      <td>0.0</td>\n",
       "    </tr>\n",
       "    <tr>\n",
       "      <td>2019-12-01</td>\n",
       "      <td>134.93</td>\n",
       "      <td>140.67</td>\n",
       "      <td>120.39</td>\n",
       "      <td>123.57</td>\n",
       "      <td>40153200.0</td>\n",
       "      <td>0.000000</td>\n",
       "      <td>0.0</td>\n",
       "    </tr>\n",
       "    <tr>\n",
       "      <td>2020-03-01</td>\n",
       "      <td>124.13</td>\n",
       "      <td>129.14</td>\n",
       "      <td>90.90</td>\n",
       "      <td>113.15</td>\n",
       "      <td>53260600.0</td>\n",
       "      <td>0.000000</td>\n",
       "      <td>0.0</td>\n",
       "    </tr>\n",
       "    <tr>\n",
       "      <td>2020-05-06</td>\n",
       "      <td>114.70</td>\n",
       "      <td>115.23</td>\n",
       "      <td>113.02</td>\n",
       "      <td>113.15</td>\n",
       "      <td>1043209.0</td>\n",
       "      <td>0.000000</td>\n",
       "      <td>0.0</td>\n",
       "    </tr>\n",
       "  </tbody>\n",
       "</table>\n",
       "<p>126 rows × 7 columns</p>\n",
       "</div>"
      ],
      "text/plain": [
       "              Open    High     Low   Close      Volume  Dividends  \\\n",
       "Date                                                                \n",
       "1995-09-01    9.32    9.85    8.44    9.43   1629600.0   0.000000   \n",
       "1995-12-01    9.41    9.85    8.58    9.10   1482800.0   0.000000   \n",
       "1996-03-01    9.26    9.26    6.99    8.00   6588800.0   0.000000   \n",
       "1996-06-01    8.53    9.79    7.83    9.76   3802400.0   0.000000   \n",
       "1996-06-24     NaN     NaN     NaN     NaN         NaN   0.399321   \n",
       "...            ...     ...     ...     ...         ...        ...   \n",
       "2019-06-01  124.43  140.62  116.49  119.15  52960600.0   0.000000   \n",
       "2019-09-01  118.81  137.12  112.80  135.95  44453000.0   0.000000   \n",
       "2019-12-01  134.93  140.67  120.39  123.57  40153200.0   0.000000   \n",
       "2020-03-01  124.13  129.14   90.90  113.15  53260600.0   0.000000   \n",
       "2020-05-06  114.70  115.23  113.02  113.15   1043209.0   0.000000   \n",
       "\n",
       "            Stock Splits  \n",
       "Date                      \n",
       "1995-09-01           0.0  \n",
       "1995-12-01           0.0  \n",
       "1996-03-01           0.0  \n",
       "1996-06-01           0.0  \n",
       "1996-06-24           0.0  \n",
       "...                  ...  \n",
       "2019-06-01           0.0  \n",
       "2019-09-01           0.0  \n",
       "2019-12-01           0.0  \n",
       "2020-03-01           0.0  \n",
       "2020-05-06           0.0  \n",
       "\n",
       "[126 rows x 7 columns]"
      ]
     },
     "execution_count": 39,
     "metadata": {},
     "output_type": "execute_result"
    }
   ],
   "source": [
    "# Schlusskurse\n",
    "companyTicker.history(period='max', interval='3mo')"
   ]
  },
  {
   "cell_type": "code",
   "execution_count": 16,
   "metadata": {},
   "outputs": [],
   "source": [
    "from yahoofinance import CashFlowQuarterly"
   ]
  },
  {
   "cell_type": "code",
   "execution_count": 17,
   "metadata": {},
   "outputs": [],
   "source": [
    "all_qcf = CashFlowQuarterly(\"SAP\")"
   ]
  },
  {
   "cell_type": "code",
   "execution_count": 18,
   "metadata": {},
   "outputs": [
    {
     "name": "stdout",
     "output_type": "stream",
     "text": [
      "{'raw': 1585612800, 'fmt': '2020-03-31'}\n",
      "{'raw': 1577750400, 'fmt': '2019-12-31'}\n",
      "{'raw': 1569801600, 'fmt': '2019-09-30'}\n",
      "{'raw': 1561852800, 'fmt': '2019-06-30'}\n"
     ]
    }
   ],
   "source": [
    "for qcf in all_qcf.cashflow:\n",
    "    print(qcf['endDate'])"
   ]
  },
  {
   "cell_type": "code",
   "execution_count": null,
   "metadata": {},
   "outputs": [],
   "source": []
  }
 ],
 "metadata": {
  "kernelspec": {
   "display_name": "Python 3",
   "language": "python",
   "name": "python3"
  },
  "language_info": {
   "codemirror_mode": {
    "name": "ipython",
    "version": 3
   },
   "file_extension": ".py",
   "mimetype": "text/x-python",
   "name": "python",
   "nbconvert_exporter": "python",
   "pygments_lexer": "ipython3",
   "version": "3.7.4"
  }
 },
 "nbformat": 4,
 "nbformat_minor": 4
}
