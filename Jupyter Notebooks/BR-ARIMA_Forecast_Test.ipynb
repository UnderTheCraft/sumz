{
 "cells": [
  {
   "cell_type": "code",
   "execution_count": 3,
   "metadata": {},
   "outputs": [
    {
     "name": "stderr",
     "output_type": "stream",
     "text": [
      "Unable to create process using 'C:\\Users\\Yannick Ulmrich\\Anaconda3\\python.exe \"C:\\Users\\Yannick Ulmrich\\Anaconda3\\Scripts\\pip-script.py\" install statsmodels==0.11.1'\n"
     ]
    }
   ],
   "source": [
    "!pip install statsmodels==0.11.1"
   ]
  },
  {
   "cell_type": "code",
   "execution_count": 1,
   "metadata": {},
   "outputs": [],
   "source": [
    "from statsmodels.tsa.statespace.sarimax import SARIMAX\n",
    "import matplotlib.pyplot as plt\n",
    "import pandas as pd"
   ]
  },
  {
   "cell_type": "code",
   "execution_count": 34,
   "metadata": {},
   "outputs": [
    {
     "data": {
      "text/plain": [
       "56"
      ]
     },
     "execution_count": 34,
     "metadata": {},
     "output_type": "execute_result"
    }
   ],
   "source": [
    "# Historical Free Cash Flows of SAP in the years Q1 2006 till Q4 2019 (in Million Dollars)\n",
    "sap_hist_fcf = [1049, 1246, 1666, 2437, 1111, 1372, 0, 2137, 1600, 2130, 2610, 2778, 1757, 0, 3396, 4234, 1003, 1636, 2432, 3505, 1997, 2935, 3771, 4391, 2715, 3084, 3826, 5040, 2856, 3241, 4027, 5280, 3223, 3532, 4090, 4751, 2671, 3070, 3606, 4041, 2738, 3300, 4047, 4884, 3061, 3866, 4848, 6065, 3169, 3560, 4051, 5082, 3183, 3689, 3916, 3292] \n",
    "len(sap_hist_fcf)"
   ]
  },
  {
   "cell_type": "code",
   "execution_count": 49,
   "metadata": {},
   "outputs": [
    {
     "data": {
      "text/html": [
       "<div>\n",
       "<style scoped>\n",
       "    .dataframe tbody tr th:only-of-type {\n",
       "        vertical-align: middle;\n",
       "    }\n",
       "\n",
       "    .dataframe tbody tr th {\n",
       "        vertical-align: top;\n",
       "    }\n",
       "\n",
       "    .dataframe thead th {\n",
       "        text-align: right;\n",
       "    }\n",
       "</style>\n",
       "<table border=\"1\" class=\"dataframe\">\n",
       "  <thead>\n",
       "    <tr style=\"text-align: right;\">\n",
       "      <th></th>\n",
       "      <th>jahr</th>\n",
       "      <th>quartal</th>\n",
       "      <th>fcf</th>\n",
       "    </tr>\n",
       "  </thead>\n",
       "  <tbody>\n",
       "    <tr>\n",
       "      <td>0</td>\n",
       "      <td>2019</td>\n",
       "      <td>Q3</td>\n",
       "      <td>2,33</td>\n",
       "    </tr>\n",
       "    <tr>\n",
       "      <td>1</td>\n",
       "      <td>2019</td>\n",
       "      <td>Q2</td>\n",
       "      <td>1,96</td>\n",
       "    </tr>\n",
       "    <tr>\n",
       "      <td>2</td>\n",
       "      <td>2019</td>\n",
       "      <td>Q1</td>\n",
       "      <td>2,37</td>\n",
       "    </tr>\n",
       "    <tr>\n",
       "      <td>3</td>\n",
       "      <td>2018</td>\n",
       "      <td>Q4</td>\n",
       "      <td>2,84</td>\n",
       "    </tr>\n",
       "    <tr>\n",
       "      <td>4</td>\n",
       "      <td>2018</td>\n",
       "      <td>Q3</td>\n",
       "      <td>2,34</td>\n",
       "    </tr>\n",
       "    <tr>\n",
       "      <td>5</td>\n",
       "      <td>2018</td>\n",
       "      <td>Q2</td>\n",
       "      <td>2,17</td>\n",
       "    </tr>\n",
       "    <tr>\n",
       "      <td>6</td>\n",
       "      <td>2018</td>\n",
       "      <td>Q1</td>\n",
       "      <td>2,15</td>\n",
       "    </tr>\n",
       "    <tr>\n",
       "      <td>7</td>\n",
       "      <td>2017</td>\n",
       "      <td>Q4</td>\n",
       "      <td>3,77</td>\n",
       "    </tr>\n",
       "    <tr>\n",
       "      <td>8</td>\n",
       "      <td>2017</td>\n",
       "      <td>Q3</td>\n",
       "      <td>3,16</td>\n",
       "    </tr>\n",
       "    <tr>\n",
       "      <td>9</td>\n",
       "      <td>2017</td>\n",
       "      <td>Q2</td>\n",
       "      <td>2,90</td>\n",
       "    </tr>\n",
       "    <tr>\n",
       "      <td>10</td>\n",
       "      <td>2017</td>\n",
       "      <td>Q1</td>\n",
       "      <td>2,58</td>\n",
       "    </tr>\n",
       "    <tr>\n",
       "      <td>11</td>\n",
       "      <td>2016</td>\n",
       "      <td>Q4</td>\n",
       "      <td>3,63</td>\n",
       "    </tr>\n",
       "    <tr>\n",
       "      <td>12</td>\n",
       "      <td>2016</td>\n",
       "      <td>Q3</td>\n",
       "      <td>2,96</td>\n",
       "    </tr>\n",
       "    <tr>\n",
       "      <td>13</td>\n",
       "      <td>2016</td>\n",
       "      <td>Q2</td>\n",
       "      <td>2,52</td>\n",
       "    </tr>\n",
       "    <tr>\n",
       "      <td>14</td>\n",
       "      <td>2016</td>\n",
       "      <td>Q1</td>\n",
       "      <td>2,31</td>\n",
       "    </tr>\n",
       "    <tr>\n",
       "      <td>15</td>\n",
       "      <td>2015</td>\n",
       "      <td>Q4</td>\n",
       "      <td>3,00</td>\n",
       "    </tr>\n",
       "    <tr>\n",
       "      <td>16</td>\n",
       "      <td>2015</td>\n",
       "      <td>Q3</td>\n",
       "      <td>2,81</td>\n",
       "    </tr>\n",
       "    <tr>\n",
       "      <td>17</td>\n",
       "      <td>2015</td>\n",
       "      <td>Q2</td>\n",
       "      <td>2,50</td>\n",
       "    </tr>\n",
       "    <tr>\n",
       "      <td>18</td>\n",
       "      <td>2015</td>\n",
       "      <td>Q1</td>\n",
       "      <td>2,22</td>\n",
       "    </tr>\n",
       "    <tr>\n",
       "      <td>19</td>\n",
       "      <td>2014</td>\n",
       "      <td>Q4</td>\n",
       "      <td>2,76</td>\n",
       "    </tr>\n",
       "    <tr>\n",
       "      <td>20</td>\n",
       "      <td>2014</td>\n",
       "      <td>Q3</td>\n",
       "      <td>2,61</td>\n",
       "    </tr>\n",
       "    <tr>\n",
       "      <td>21</td>\n",
       "      <td>2014</td>\n",
       "      <td>Q2</td>\n",
       "      <td>2,27</td>\n",
       "    </tr>\n",
       "    <tr>\n",
       "      <td>22</td>\n",
       "      <td>2014</td>\n",
       "      <td>Q1</td>\n",
       "      <td>2,22</td>\n",
       "    </tr>\n",
       "    <tr>\n",
       "      <td>23</td>\n",
       "      <td>2013</td>\n",
       "      <td>Q4</td>\n",
       "      <td>3,26</td>\n",
       "    </tr>\n",
       "    <tr>\n",
       "      <td>24</td>\n",
       "      <td>2013</td>\n",
       "      <td>Q3</td>\n",
       "      <td>2,63</td>\n",
       "    </tr>\n",
       "    <tr>\n",
       "      <td>25</td>\n",
       "      <td>2013</td>\n",
       "      <td>Q2</td>\n",
       "      <td>2,21</td>\n",
       "    </tr>\n",
       "    <tr>\n",
       "      <td>26</td>\n",
       "      <td>2013</td>\n",
       "      <td>Q1</td>\n",
       "      <td>2,04</td>\n",
       "    </tr>\n",
       "    <tr>\n",
       "      <td>27</td>\n",
       "      <td>2012</td>\n",
       "      <td>Q4</td>\n",
       "      <td>3,28</td>\n",
       "    </tr>\n",
       "    <tr>\n",
       "      <td>28</td>\n",
       "      <td>2012</td>\n",
       "      <td>Q3</td>\n",
       "      <td>2,68</td>\n",
       "    </tr>\n",
       "    <tr>\n",
       "      <td>29</td>\n",
       "      <td>2012</td>\n",
       "      <td>Q2</td>\n",
       "      <td>2,12</td>\n",
       "    </tr>\n",
       "    <tr>\n",
       "      <td>30</td>\n",
       "      <td>2012</td>\n",
       "      <td>Q1</td>\n",
       "      <td>1,95</td>\n",
       "    </tr>\n",
       "    <tr>\n",
       "      <td>31</td>\n",
       "      <td>2011</td>\n",
       "      <td>Q4</td>\n",
       "      <td>3,33</td>\n",
       "    </tr>\n",
       "    <tr>\n",
       "      <td>32</td>\n",
       "      <td>2011</td>\n",
       "      <td>Q3</td>\n",
       "      <td>2,63</td>\n",
       "    </tr>\n",
       "    <tr>\n",
       "      <td>33</td>\n",
       "      <td>2011</td>\n",
       "      <td>Q2</td>\n",
       "      <td>2,02</td>\n",
       "    </tr>\n",
       "    <tr>\n",
       "      <td>34</td>\n",
       "      <td>2011</td>\n",
       "      <td>Q1</td>\n",
       "      <td>1,45</td>\n",
       "    </tr>\n",
       "  </tbody>\n",
       "</table>\n",
       "</div>"
      ],
      "text/plain": [
       "    jahr quartal   fcf\n",
       "0   2019      Q3  2,33\n",
       "1   2019      Q2  1,96\n",
       "2   2019      Q1  2,37\n",
       "3   2018      Q4  2,84\n",
       "4   2018      Q3  2,34\n",
       "5   2018      Q2  2,17\n",
       "6   2018      Q1  2,15\n",
       "7   2017      Q4  3,77\n",
       "8   2017      Q3  3,16\n",
       "9   2017      Q2  2,90\n",
       "10  2017      Q1  2,58\n",
       "11  2016      Q4  3,63\n",
       "12  2016      Q3  2,96\n",
       "13  2016      Q2  2,52\n",
       "14  2016      Q1  2,31\n",
       "15  2015      Q4  3,00\n",
       "16  2015      Q3  2,81\n",
       "17  2015      Q2  2,50\n",
       "18  2015      Q1  2,22\n",
       "19  2014      Q4  2,76\n",
       "20  2014      Q3  2,61\n",
       "21  2014      Q2  2,27\n",
       "22  2014      Q1  2,22\n",
       "23  2013      Q4  3,26\n",
       "24  2013      Q3  2,63\n",
       "25  2013      Q2  2,21\n",
       "26  2013      Q1  2,04\n",
       "27  2012      Q4  3,28\n",
       "28  2012      Q3  2,68\n",
       "29  2012      Q2  2,12\n",
       "30  2012      Q1  1,95\n",
       "31  2011      Q4  3,33\n",
       "32  2011      Q3  2,63\n",
       "33  2011      Q2  2,02\n",
       "34  2011      Q1  1,45"
      ]
     },
     "execution_count": 49,
     "metadata": {},
     "output_type": "execute_result"
    }
   ],
   "source": [
    "df"
   ]
  },
  {
   "cell_type": "code",
   "execution_count": 17,
   "metadata": {},
   "outputs": [
    {
     "ename": "NameError",
     "evalue": "name 'test' is not defined",
     "output_type": "error",
     "traceback": [
      "\u001b[1;31m---------------------------------------------------------------------------\u001b[0m",
      "\u001b[1;31mNameError\u001b[0m                                 Traceback (most recent call last)",
      "\u001b[1;32m<ipython-input-17-fbab31b8ab6c>\u001b[0m in \u001b[0;36m<module>\u001b[1;34m\u001b[0m\n\u001b[1;32m----> 1\u001b[1;33m \u001b[0mmake_forecast\u001b[0m\u001b[1;33m(\u001b[0m\u001b[0mtest\u001b[0m\u001b[1;33m)\u001b[0m\u001b[1;33m\u001b[0m\u001b[1;33m\u001b[0m\u001b[0m\n\u001b[0m",
      "\u001b[1;31mNameError\u001b[0m: name 'test' is not defined"
     ]
    }
   ],
   "source": [
    "make_forecast(test)"
   ]
  },
  {
   "cell_type": "code",
   "execution_count": 6,
   "metadata": {},
   "outputs": [
    {
     "data": {
      "text/plain": [
       "[<matplotlib.lines.Line2D at 0x24b6a0a6b48>]"
      ]
     },
     "execution_count": 6,
     "metadata": {},
     "output_type": "execute_result"
    },
    {
     "data": {
      "image/png": "[encoded data removed]",
      "text/plain": [
       "<Figure size 432x288 with 1 Axes>"
      ]
     },
     "metadata": {
      "needs_background": "light"
     },
     "output_type": "display_data"
    }
   ],
   "source": [
    "plt.plot(sap_hist_fcf)"
   ]
  },
  {
   "cell_type": "code",
   "execution_count": 19,
   "metadata": {},
   "outputs": [],
   "source": [
    "train, test = sap_hist_fcf[:-16], sap_hist_fcf[-16:]"
   ]
  },
  {
   "cell_type": "code",
   "execution_count": 20,
   "metadata": {},
   "outputs": [
    {
     "name": "stdout",
     "output_type": "stream",
     "text": [
      "Wall time: 158 ms\n"
     ]
    }
   ],
   "source": [
    "%%time\n",
    "model = SARIMAX(train, order=(1,0,0), seasonal_order=(0,1,1,4), seasonal=True)\n",
    "# Optional: trained_model = model.fit(cov_kwds={'approx_complex_step': True})\n",
    "trained_model = model.fit()"
   ]
  },
  {
   "cell_type": "code",
   "execution_count": 21,
   "metadata": {},
   "outputs": [
    {
     "data": {
      "text/html": [
       "<table class=\"simpletable\">\n",
       "<caption>SARIMAX Results</caption>\n",
       "<tr>\n",
       "  <th>Dep. Variable:</th>                  <td>y</td>                <th>  No. Observations:  </th>    <td>40</td>   \n",
       "</tr>\n",
       "<tr>\n",
       "  <th>Model:</th>           <td>SARIMAX(1, 0, 0)x(0, 1, [1], 4)</td> <th>  Log Likelihood     </th> <td>-293.860</td>\n",
       "</tr>\n",
       "<tr>\n",
       "  <th>Date:</th>                   <td>Fri, 05 Jun 2020</td>         <th>  AIC                </th>  <td>593.720</td>\n",
       "</tr>\n",
       "<tr>\n",
       "  <th>Time:</th>                       <td>15:49:26</td>             <th>  BIC                </th>  <td>598.471</td>\n",
       "</tr>\n",
       "<tr>\n",
       "  <th>Sample:</th>                         <td>0</td>                <th>  HQIC               </th>  <td>595.378</td>\n",
       "</tr>\n",
       "<tr>\n",
       "  <th></th>                              <td> - 40</td>              <th>                     </th>     <td> </td>   \n",
       "</tr>\n",
       "<tr>\n",
       "  <th>Covariance Type:</th>               <td>opg</td>               <th>                     </th>     <td> </td>   \n",
       "</tr>\n",
       "</table>\n",
       "<table class=\"simpletable\">\n",
       "<tr>\n",
       "     <td></td>        <th>coef</th>     <th>std err</th>      <th>z</th>      <th>P>|z|</th>  <th>[0.025</th>    <th>0.975]</th>  \n",
       "</tr>\n",
       "<tr>\n",
       "  <th>ar.L1</th>   <td>    0.3729</td> <td>    0.145</td> <td>    2.568</td> <td> 0.010</td> <td>    0.088</td> <td>    0.657</td>\n",
       "</tr>\n",
       "<tr>\n",
       "  <th>ma.S.L4</th> <td>   -0.4236</td> <td>    0.149</td> <td>   -2.841</td> <td> 0.004</td> <td>   -0.716</td> <td>   -0.131</td>\n",
       "</tr>\n",
       "<tr>\n",
       "  <th>sigma2</th>  <td> 7.048e+05</td> <td> 1.64e+05</td> <td>    4.308</td> <td> 0.000</td> <td> 3.84e+05</td> <td> 1.03e+06</td>\n",
       "</tr>\n",
       "</table>\n",
       "<table class=\"simpletable\">\n",
       "<tr>\n",
       "  <th>Ljung-Box (Q):</th>          <td>21.71</td> <th>  Jarque-Bera (JB):  </th> <td>2.03</td> \n",
       "</tr>\n",
       "<tr>\n",
       "  <th>Prob(Q):</th>                <td>0.96</td>  <th>  Prob(JB):          </th> <td>0.36</td> \n",
       "</tr>\n",
       "<tr>\n",
       "  <th>Heteroskedasticity (H):</th> <td>0.08</td>  <th>  Skew:              </th> <td>-0.19</td>\n",
       "</tr>\n",
       "<tr>\n",
       "  <th>Prob(H) (two-sided):</th>    <td>0.00</td>  <th>  Kurtosis:          </th> <td>4.10</td> \n",
       "</tr>\n",
       "</table><br/><br/>Warnings:<br/>[1] Covariance matrix calculated using the outer product of gradients (complex-step)."
      ],
      "text/plain": [
       "<class 'statsmodels.iolib.summary.Summary'>\n",
       "\"\"\"\n",
       "                                      SARIMAX Results                                      \n",
       "===========================================================================================\n",
       "Dep. Variable:                                   y   No. Observations:                   40\n",
       "Model:             SARIMAX(1, 0, 0)x(0, 1, [1], 4)   Log Likelihood                -293.860\n",
       "Date:                             Fri, 05 Jun 2020   AIC                            593.720\n",
       "Time:                                     15:49:26   BIC                            598.471\n",
       "Sample:                                          0   HQIC                           595.378\n",
       "                                              - 40                                         \n",
       "Covariance Type:                               opg                                         \n",
       "==============================================================================\n",
       "                 coef    std err          z      P>|z|      [0.025      0.975]\n",
       "------------------------------------------------------------------------------\n",
       "ar.L1          0.3729      0.145      2.568      0.010       0.088       0.657\n",
       "ma.S.L4       -0.4236      0.149     -2.841      0.004      -0.716      -0.131\n",
       "sigma2      7.048e+05   1.64e+05      4.308      0.000    3.84e+05    1.03e+06\n",
       "===================================================================================\n",
       "Ljung-Box (Q):                       21.71   Jarque-Bera (JB):                 2.03\n",
       "Prob(Q):                              0.96   Prob(JB):                         0.36\n",
       "Heteroskedasticity (H):               0.08   Skew:                            -0.19\n",
       "Prob(H) (two-sided):                  0.00   Kurtosis:                         4.10\n",
       "===================================================================================\n",
       "\n",
       "Warnings:\n",
       "[1] Covariance matrix calculated using the outer product of gradients (complex-step).\n",
       "\"\"\""
      ]
     },
     "execution_count": 21,
     "metadata": {},
     "output_type": "execute_result"
    }
   ],
   "source": [
    "trained_model.summary()"
   ]
  },
  {
   "cell_type": "code",
   "execution_count": 22,
   "metadata": {},
   "outputs": [
    {
     "name": "stdout",
     "output_type": "stream",
     "text": [
      "Wall time: 1 ms\n"
     ]
    }
   ],
   "source": [
    "%%time\n",
    "prediction = trained_model.predict(16)"
   ]
  },
  {
   "cell_type": "code",
   "execution_count": 23,
   "metadata": {},
   "outputs": [
    {
     "data": {
      "image/png": "[encoded data removed]",
      "text/plain": [
       "<Figure size 432x288 with 1 Axes>"
      ]
     },
     "metadata": {
      "needs_background": "light"
     },
     "output_type": "display_data"
    }
   ],
   "source": [
    "fig, ax = plt.subplots()\n",
    "plt.plot(test, label='actual')\n",
    "plt.plot(prediction, label='prediction')\n",
    "plt.legend(loc = 'best')\n",
    "plt.show()"
   ]
  },
  {
   "cell_type": "code",
   "execution_count": 26,
   "metadata": {},
   "outputs": [
    {
     "data": {
      "text/plain": [
       "array([ 182.47331222,  228.19014734,  260.51866612, 1295.38519954,\n",
       "       1040.67322711, 1416.1505671 , 1503.00233405, 1054.57277312,\n",
       "       1432.39644697,  817.00514747, 2856.45313622, 1611.59104818,\n",
       "       1896.54366934, 1069.99378697, 3102.83357634, 2237.48944493])"
      ]
     },
     "execution_count": 26,
     "metadata": {},
     "output_type": "execute_result"
    }
   ],
   "source": [
    "prediction"
   ]
  },
  {
   "cell_type": "code",
   "execution_count": null,
   "metadata": {},
   "outputs": [],
   "source": []
  },
  {
   "cell_type": "code",
   "execution_count": 20,
   "metadata": {},
   "outputs": [],
   "source": [
    "import json\n",
    "import pandas as pd\n",
    "from flask import make_response, jsonify"
   ]
  },
  {
   "cell_type": "code",
   "execution_count": 3,
   "metadata": {},
   "outputs": [],
   "source": [
    "df = pd.read_csv(\"../restapi/data/fcf/sap.csv\", sep=\";\")"
   ]
  },
  {
   "cell_type": "code",
   "execution_count": 13,
   "metadata": {},
   "outputs": [],
   "source": [
    "data = df.to_dict(orient = 'records')"
   ]
  },
  {
   "cell_type": "code",
   "execution_count": 14,
   "metadata": {},
   "outputs": [],
   "source": [
    "data.append({\"company\": \"sap\"})"
   ]
  },
  {
   "cell_type": "code",
   "execution_count": 21,
   "metadata": {},
   "outputs": [
    {
     "ename": "RuntimeError",
     "evalue": "Working outside of application context.\n\nThis typically means that you attempted to use functionality that needed\nto interface with the current application object in some way. To solve\nthis, set up an application context with app.app_context().  See the\ndocumentation for more information.",
     "output_type": "error",
     "traceback": [
      "\u001b[1;31m---------------------------------------------------------------------------\u001b[0m",
      "\u001b[1;31mRuntimeError\u001b[0m                              Traceback (most recent call last)",
      "\u001b[1;32m<ipython-input-21-04776b837acc>\u001b[0m in \u001b[0;36m<module>\u001b[1;34m\u001b[0m\n\u001b[1;32m----> 1\u001b[1;33m \u001b[0mjsonify\u001b[0m\u001b[1;33m(\u001b[0m\u001b[0mdata\u001b[0m\u001b[1;33m)\u001b[0m\u001b[1;33m\u001b[0m\u001b[1;33m\u001b[0m\u001b[0m\n\u001b[0m",
      "\u001b[1;32m~\\Anaconda3\\lib\\site-packages\\flask\\json\\__init__.py\u001b[0m in \u001b[0;36mjsonify\u001b[1;34m(*args, **kwargs)\u001b[0m\n\u001b[0;32m    356\u001b[0m     \u001b[0mseparators\u001b[0m \u001b[1;33m=\u001b[0m \u001b[1;33m(\u001b[0m\u001b[1;34m\",\"\u001b[0m\u001b[1;33m,\u001b[0m \u001b[1;34m\":\"\u001b[0m\u001b[1;33m)\u001b[0m\u001b[1;33m\u001b[0m\u001b[1;33m\u001b[0m\u001b[0m\n\u001b[0;32m    357\u001b[0m \u001b[1;33m\u001b[0m\u001b[0m\n\u001b[1;32m--> 358\u001b[1;33m     \u001b[1;32mif\u001b[0m \u001b[0mcurrent_app\u001b[0m\u001b[1;33m.\u001b[0m\u001b[0mconfig\u001b[0m\u001b[1;33m[\u001b[0m\u001b[1;34m\"JSONIFY_PRETTYPRINT_REGULAR\"\u001b[0m\u001b[1;33m]\u001b[0m \u001b[1;32mor\u001b[0m \u001b[0mcurrent_app\u001b[0m\u001b[1;33m.\u001b[0m\u001b[0mdebug\u001b[0m\u001b[1;33m:\u001b[0m\u001b[1;33m\u001b[0m\u001b[1;33m\u001b[0m\u001b[0m\n\u001b[0m\u001b[0;32m    359\u001b[0m         \u001b[0mindent\u001b[0m \u001b[1;33m=\u001b[0m \u001b[1;36m2\u001b[0m\u001b[1;33m\u001b[0m\u001b[1;33m\u001b[0m\u001b[0m\n\u001b[0;32m    360\u001b[0m         \u001b[0mseparators\u001b[0m \u001b[1;33m=\u001b[0m \u001b[1;33m(\u001b[0m\u001b[1;34m\", \"\u001b[0m\u001b[1;33m,\u001b[0m \u001b[1;34m\": \"\u001b[0m\u001b[1;33m)\u001b[0m\u001b[1;33m\u001b[0m\u001b[1;33m\u001b[0m\u001b[0m\n",
      "\u001b[1;32m~\\Anaconda3\\lib\\site-packages\\werkzeug\\local.py\u001b[0m in \u001b[0;36m__getattr__\u001b[1;34m(self, name)\u001b[0m\n\u001b[0;32m    346\u001b[0m         \u001b[1;32mif\u001b[0m \u001b[0mname\u001b[0m \u001b[1;33m==\u001b[0m \u001b[1;34m\"__members__\"\u001b[0m\u001b[1;33m:\u001b[0m\u001b[1;33m\u001b[0m\u001b[1;33m\u001b[0m\u001b[0m\n\u001b[0;32m    347\u001b[0m             \u001b[1;32mreturn\u001b[0m \u001b[0mdir\u001b[0m\u001b[1;33m(\u001b[0m\u001b[0mself\u001b[0m\u001b[1;33m.\u001b[0m\u001b[0m_get_current_object\u001b[0m\u001b[1;33m(\u001b[0m\u001b[1;33m)\u001b[0m\u001b[1;33m)\u001b[0m\u001b[1;33m\u001b[0m\u001b[1;33m\u001b[0m\u001b[0m\n\u001b[1;32m--> 348\u001b[1;33m         \u001b[1;32mreturn\u001b[0m \u001b[0mgetattr\u001b[0m\u001b[1;33m(\u001b[0m\u001b[0mself\u001b[0m\u001b[1;33m.\u001b[0m\u001b[0m_get_current_object\u001b[0m\u001b[1;33m(\u001b[0m\u001b[1;33m)\u001b[0m\u001b[1;33m,\u001b[0m \u001b[0mname\u001b[0m\u001b[1;33m)\u001b[0m\u001b[1;33m\u001b[0m\u001b[1;33m\u001b[0m\u001b[0m\n\u001b[0m\u001b[0;32m    349\u001b[0m \u001b[1;33m\u001b[0m\u001b[0m\n\u001b[0;32m    350\u001b[0m     \u001b[1;32mdef\u001b[0m \u001b[0m__setitem__\u001b[0m\u001b[1;33m(\u001b[0m\u001b[0mself\u001b[0m\u001b[1;33m,\u001b[0m \u001b[0mkey\u001b[0m\u001b[1;33m,\u001b[0m \u001b[0mvalue\u001b[0m\u001b[1;33m)\u001b[0m\u001b[1;33m:\u001b[0m\u001b[1;33m\u001b[0m\u001b[1;33m\u001b[0m\u001b[0m\n",
      "\u001b[1;32m~\\Anaconda3\\lib\\site-packages\\werkzeug\\local.py\u001b[0m in \u001b[0;36m_get_current_object\u001b[1;34m(self)\u001b[0m\n\u001b[0;32m    305\u001b[0m         \"\"\"\n\u001b[0;32m    306\u001b[0m         \u001b[1;32mif\u001b[0m \u001b[1;32mnot\u001b[0m \u001b[0mhasattr\u001b[0m\u001b[1;33m(\u001b[0m\u001b[0mself\u001b[0m\u001b[1;33m.\u001b[0m\u001b[0m__local\u001b[0m\u001b[1;33m,\u001b[0m \u001b[1;34m\"__release_local__\"\u001b[0m\u001b[1;33m)\u001b[0m\u001b[1;33m:\u001b[0m\u001b[1;33m\u001b[0m\u001b[1;33m\u001b[0m\u001b[0m\n\u001b[1;32m--> 307\u001b[1;33m             \u001b[1;32mreturn\u001b[0m \u001b[0mself\u001b[0m\u001b[1;33m.\u001b[0m\u001b[0m__local\u001b[0m\u001b[1;33m(\u001b[0m\u001b[1;33m)\u001b[0m\u001b[1;33m\u001b[0m\u001b[1;33m\u001b[0m\u001b[0m\n\u001b[0m\u001b[0;32m    308\u001b[0m         \u001b[1;32mtry\u001b[0m\u001b[1;33m:\u001b[0m\u001b[1;33m\u001b[0m\u001b[1;33m\u001b[0m\u001b[0m\n\u001b[0;32m    309\u001b[0m             \u001b[1;32mreturn\u001b[0m \u001b[0mgetattr\u001b[0m\u001b[1;33m(\u001b[0m\u001b[0mself\u001b[0m\u001b[1;33m.\u001b[0m\u001b[0m__local\u001b[0m\u001b[1;33m,\u001b[0m \u001b[0mself\u001b[0m\u001b[1;33m.\u001b[0m\u001b[0m__name__\u001b[0m\u001b[1;33m)\u001b[0m\u001b[1;33m\u001b[0m\u001b[1;33m\u001b[0m\u001b[0m\n",
      "\u001b[1;32m~\\Anaconda3\\lib\\site-packages\\flask\\globals.py\u001b[0m in \u001b[0;36m_find_app\u001b[1;34m()\u001b[0m\n\u001b[0;32m     50\u001b[0m     \u001b[0mtop\u001b[0m \u001b[1;33m=\u001b[0m \u001b[0m_app_ctx_stack\u001b[0m\u001b[1;33m.\u001b[0m\u001b[0mtop\u001b[0m\u001b[1;33m\u001b[0m\u001b[1;33m\u001b[0m\u001b[0m\n\u001b[0;32m     51\u001b[0m     \u001b[1;32mif\u001b[0m \u001b[0mtop\u001b[0m \u001b[1;32mis\u001b[0m \u001b[1;32mNone\u001b[0m\u001b[1;33m:\u001b[0m\u001b[1;33m\u001b[0m\u001b[1;33m\u001b[0m\u001b[0m\n\u001b[1;32m---> 52\u001b[1;33m         \u001b[1;32mraise\u001b[0m \u001b[0mRuntimeError\u001b[0m\u001b[1;33m(\u001b[0m\u001b[0m_app_ctx_err_msg\u001b[0m\u001b[1;33m)\u001b[0m\u001b[1;33m\u001b[0m\u001b[1;33m\u001b[0m\u001b[0m\n\u001b[0m\u001b[0;32m     53\u001b[0m     \u001b[1;32mreturn\u001b[0m \u001b[0mtop\u001b[0m\u001b[1;33m.\u001b[0m\u001b[0mapp\u001b[0m\u001b[1;33m\u001b[0m\u001b[1;33m\u001b[0m\u001b[0m\n\u001b[0;32m     54\u001b[0m \u001b[1;33m\u001b[0m\u001b[0m\n",
      "\u001b[1;31mRuntimeError\u001b[0m: Working outside of application context.\n\nThis typically means that you attempted to use functionality that needed\nto interface with the current application object in some way. To solve\nthis, set up an application context with app.app_context().  See the\ndocumentation for more information."
     ]
    }
   ],
   "source": [
    "jsonify(data)"
   ]
  },
  {
   "cell_type": "code",
   "execution_count": 11,
   "metadata": {},
   "outputs": [
    {
     "data": {
      "text/plain": [
       "'[{\"jahr\":2019,\"quartal\":\"Q3\",\"fcf\":\"2,33\"},{\"jahr\":2019,\"quartal\":\"Q2\",\"fcf\":\"1,96\"},{\"jahr\":2019,\"quartal\":\"Q1\",\"fcf\":\"2,37\"},{\"jahr\":2018,\"quartal\":\"Q4\",\"fcf\":\"2,84\"},{\"jahr\":2018,\"quartal\":\"Q3\",\"fcf\":\"2,34\"},{\"jahr\":2018,\"quartal\":\"Q2\",\"fcf\":\"2,17\"},{\"jahr\":2018,\"quartal\":\"Q1\",\"fcf\":\"2,15\"},{\"jahr\":2017,\"quartal\":\"Q4\",\"fcf\":\"3,77\"},{\"jahr\":2017,\"quartal\":\"Q3\",\"fcf\":\"3,16\"},{\"jahr\":2017,\"quartal\":\"Q2\",\"fcf\":\"2,90\"},{\"jahr\":2017,\"quartal\":\"Q1\",\"fcf\":\"2,58\"},{\"jahr\":2016,\"quartal\":\"Q4\",\"fcf\":\"3,63\"},{\"jahr\":2016,\"quartal\":\"Q3\",\"fcf\":\"2,96\"},{\"jahr\":2016,\"quartal\":\"Q2\",\"fcf\":\"2,52\"},{\"jahr\":2016,\"quartal\":\"Q1\",\"fcf\":\"2,31\"},{\"jahr\":2015,\"quartal\":\"Q4\",\"fcf\":\"3,00\"},{\"jahr\":2015,\"quartal\":\"Q3\",\"fcf\":\"2,81\"},{\"jahr\":2015,\"quartal\":\"Q2\",\"fcf\":\"2,50\"},{\"jahr\":2015,\"quartal\":\"Q1\",\"fcf\":\"2,22\"},{\"jahr\":2014,\"quartal\":\"Q4\",\"fcf\":\"2,76\"},{\"jahr\":2014,\"quartal\":\"Q3\",\"fcf\":\"2,61\"},{\"jahr\":2014,\"quartal\":\"Q2\",\"fcf\":\"2,27\"},{\"jahr\":2014,\"quartal\":\"Q1\",\"fcf\":\"2,22\"},{\"jahr\":2013,\"quartal\":\"Q4\",\"fcf\":\"3,26\"},{\"jahr\":2013,\"quartal\":\"Q3\",\"fcf\":\"2,63\"},{\"jahr\":2013,\"quartal\":\"Q2\",\"fcf\":\"2,21\"},{\"jahr\":2013,\"quartal\":\"Q1\",\"fcf\":\"2,04\"},{\"jahr\":2012,\"quartal\":\"Q4\",\"fcf\":\"3,28\"},{\"jahr\":2012,\"quartal\":\"Q3\",\"fcf\":\"2,68\"},{\"jahr\":2012,\"quartal\":\"Q2\",\"fcf\":\"2,12\"},{\"jahr\":2012,\"quartal\":\"Q1\",\"fcf\":\"1,95\"},{\"jahr\":2011,\"quartal\":\"Q4\",\"fcf\":\"3,33\"},{\"jahr\":2011,\"quartal\":\"Q3\",\"fcf\":\"2,63\"},{\"jahr\":2011,\"quartal\":\"Q2\",\"fcf\":\"2,02\"},{\"jahr\":2011,\"quartal\":\"Q1\",\"fcf\":\"1,45\"}]'"
      ]
     },
     "execution_count": 11,
     "metadata": {},
     "output_type": "execute_result"
    }
   ],
   "source": [
    "df.to_json(orient = 'records')"
   ]
  },
  {
   "cell_type": "code",
   "execution_count": 4,
   "metadata": {},
   "outputs": [],
   "source": [
    "data = df.to_json(orient = 'records')"
   ]
  },
  {
   "cell_type": "code",
   "execution_count": 5,
   "metadata": {},
   "outputs": [],
   "source": [
    "d = json.loads(data)"
   ]
  },
  {
   "cell_type": "code",
   "execution_count": 6,
   "metadata": {},
   "outputs": [],
   "source": [
    "d.append({\"company\":\"sap\"})"
   ]
  },
  {
   "cell_type": "code",
   "execution_count": 7,
   "metadata": {},
   "outputs": [
    {
     "data": {
      "text/plain": [
       "[{'jahr': 2019, 'quartal': 'Q3', 'fcf': '2,33'},\n",
       " {'jahr': 2019, 'quartal': 'Q2', 'fcf': '1,96'},\n",
       " {'jahr': 2019, 'quartal': 'Q1', 'fcf': '2,37'},\n",
       " {'jahr': 2018, 'quartal': 'Q4', 'fcf': '2,84'},\n",
       " {'jahr': 2018, 'quartal': 'Q3', 'fcf': '2,34'},\n",
       " {'jahr': 2018, 'quartal': 'Q2', 'fcf': '2,17'},\n",
       " {'jahr': 2018, 'quartal': 'Q1', 'fcf': '2,15'},\n",
       " {'jahr': 2017, 'quartal': 'Q4', 'fcf': '3,77'},\n",
       " {'jahr': 2017, 'quartal': 'Q3', 'fcf': '3,16'},\n",
       " {'jahr': 2017, 'quartal': 'Q2', 'fcf': '2,90'},\n",
       " {'jahr': 2017, 'quartal': 'Q1', 'fcf': '2,58'},\n",
       " {'jahr': 2016, 'quartal': 'Q4', 'fcf': '3,63'},\n",
       " {'jahr': 2016, 'quartal': 'Q3', 'fcf': '2,96'},\n",
       " {'jahr': 2016, 'quartal': 'Q2', 'fcf': '2,52'},\n",
       " {'jahr': 2016, 'quartal': 'Q1', 'fcf': '2,31'},\n",
       " {'jahr': 2015, 'quartal': 'Q4', 'fcf': '3,00'},\n",
       " {'jahr': 2015, 'quartal': 'Q3', 'fcf': '2,81'},\n",
       " {'jahr': 2015, 'quartal': 'Q2', 'fcf': '2,50'},\n",
       " {'jahr': 2015, 'quartal': 'Q1', 'fcf': '2,22'},\n",
       " {'jahr': 2014, 'quartal': 'Q4', 'fcf': '2,76'},\n",
       " {'jahr': 2014, 'quartal': 'Q3', 'fcf': '2,61'},\n",
       " {'jahr': 2014, 'quartal': 'Q2', 'fcf': '2,27'},\n",
       " {'jahr': 2014, 'quartal': 'Q1', 'fcf': '2,22'},\n",
       " {'jahr': 2013, 'quartal': 'Q4', 'fcf': '3,26'},\n",
       " {'jahr': 2013, 'quartal': 'Q3', 'fcf': '2,63'},\n",
       " {'jahr': 2013, 'quartal': 'Q2', 'fcf': '2,21'},\n",
       " {'jahr': 2013, 'quartal': 'Q1', 'fcf': '2,04'},\n",
       " {'jahr': 2012, 'quartal': 'Q4', 'fcf': '3,28'},\n",
       " {'jahr': 2012, 'quartal': 'Q3', 'fcf': '2,68'},\n",
       " {'jahr': 2012, 'quartal': 'Q2', 'fcf': '2,12'},\n",
       " {'jahr': 2012, 'quartal': 'Q1', 'fcf': '1,95'},\n",
       " {'jahr': 2011, 'quartal': 'Q4', 'fcf': '3,33'},\n",
       " {'jahr': 2011, 'quartal': 'Q3', 'fcf': '2,63'},\n",
       " {'jahr': 2011, 'quartal': 'Q2', 'fcf': '2,02'},\n",
       " {'jahr': 2011, 'quartal': 'Q1', 'fcf': '1,45'},\n",
       " {'company': 'sap'}]"
      ]
     },
     "execution_count": 7,
     "metadata": {},
     "output_type": "execute_result"
    }
   ],
   "source": [
    "d"
   ]
  },
  {
   "cell_type": "code",
   "execution_count": 2,
   "metadata": {},
   "outputs": [],
   "source": [
    "from requests_html import HTMLSession"
   ]
  },
  {
   "cell_type": "code",
   "execution_count": 4,
   "metadata": {},
   "outputs": [],
   "source": [
    "session = HTMLSession()\n",
    "response = session.get('https://ycharts.com/companies/AAPL/free_cash_flow')"
   ]
  },
  {
   "cell_type": "code",
   "execution_count": 7,
   "metadata": {},
   "outputs": [
    {
     "ename": "AttributeError",
     "evalue": "'list' object has no attribute 'find'",
     "output_type": "error",
     "traceback": [
      "\u001b[1;31m---------------------------------------------------------------------------\u001b[0m",
      "\u001b[1;31mAttributeError\u001b[0m                            Traceback (most recent call last)",
      "\u001b[1;32m<ipython-input-7-fccd7e75bb59>\u001b[0m in \u001b[0;36m<module>\u001b[1;34m\u001b[0m\n\u001b[1;32m----> 1\u001b[1;33m \u001b[0mrawDates\u001b[0m \u001b[1;33m=\u001b[0m \u001b[0mresponse\u001b[0m\u001b[1;33m.\u001b[0m\u001b[0mhtml\u001b[0m\u001b[1;33m.\u001b[0m\u001b[0mfind\u001b[0m\u001b[1;33m(\u001b[0m\u001b[1;34m\".histDataTable\"\u001b[0m\u001b[1;33m)\u001b[0m\u001b[1;33m.\u001b[0m\u001b[0mfind\u001b[0m\u001b[1;33m(\u001b[0m\u001b[1;34m\".col1\"\u001b[0m\u001b[1;33m)\u001b[0m\u001b[1;33m\u001b[0m\u001b[1;33m\u001b[0m\u001b[0m\n\u001b[0m",
      "\u001b[1;31mAttributeError\u001b[0m: 'list' object has no attribute 'find'"
     ]
    }
   ],
   "source": [
    "rawDates = response.html.find(\".histDataTable\", first=True).find(\".col1\")"
   ]
  },
  {
   "cell_type": "code",
   "execution_count": 6,
   "metadata": {},
   "outputs": [
    {
     "data": {
      "text/plain": [
       "[<Element 'th' scope='col' class=('col1', 'colHeadLrg')>,\n",
       " <Element 'td' class=('col1',)>,\n",
       " <Element 'td' class=('col1',)>,\n",
       " <Element 'td' class=('col1',)>,\n",
       " <Element 'td' class=('col1',)>,\n",
       " <Element 'td' class=('col1',)>,\n",
       " <Element 'td' class=('col1',)>,\n",
       " <Element 'td' class=('col1',)>,\n",
       " <Element 'td' class=('col1',)>,\n",
       " <Element 'td' class=('col1',)>,\n",
       " <Element 'td' class=('col1',)>,\n",
       " <Element 'td' class=('col1',)>,\n",
       " <Element 'td' class=('col1',)>,\n",
       " <Element 'td' class=('col1',)>,\n",
       " <Element 'td' class=('col1',)>,\n",
       " <Element 'td' class=('col1',)>,\n",
       " <Element 'td' class=('col1',)>,\n",
       " <Element 'td' class=('col1',)>,\n",
       " <Element 'td' class=('col1',)>,\n",
       " <Element 'td' class=('col1',)>,\n",
       " <Element 'td' class=('col1',)>,\n",
       " <Element 'td' class=('col1',)>,\n",
       " <Element 'td' class=('col1',)>,\n",
       " <Element 'td' class=('col1',)>,\n",
       " <Element 'td' class=('col1',)>,\n",
       " <Element 'td' class=('col1',)>]"
      ]
     },
     "execution_count": 6,
     "metadata": {},
     "output_type": "execute_result"
    }
   ],
   "source": [
    "rawDates"
   ]
  },
  {
   "cell_type": "code",
   "execution_count": 18,
   "metadata": {},
   "outputs": [],
   "source": [
    "currency = response.html.find(\"#securityQuote\", first=True).find(\".info\")[1].text"
   ]
  },
  {
   "cell_type": "code",
   "execution_count": 19,
   "metadata": {},
   "outputs": [
    {
     "data": {
      "text/plain": [
       "'USD'"
      ]
     },
     "execution_count": 19,
     "metadata": {},
     "output_type": "execute_result"
    }
   ],
   "source": [
    "currency"
   ]
  },
  {
   "cell_type": "code",
   "execution_count": null,
   "metadata": {},
   "outputs": [],
   "source": []
  }
 ],
 "metadata": {
  "kernelspec": {
   "display_name": "Python 3",
   "language": "python",
   "name": "python3"
  },
  "language_info": {
   "codemirror_mode": {
    "name": "ipython",
    "version": 3
   },
   "file_extension": ".py",
   "mimetype": "text/x-python",
   "name": "python",
   "nbconvert_exporter": "python",
   "pygments_lexer": "ipython3",
   "version": "3.7.6"
  }
 },
 "nbformat": 4,
 "nbformat_minor": 4
}
