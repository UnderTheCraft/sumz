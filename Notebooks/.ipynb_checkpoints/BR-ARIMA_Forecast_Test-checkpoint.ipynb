{
 "cells": [
  {
   "cell_type": "code",
   "execution_count": 3,
   "metadata": {},
   "outputs": [
    {
     "name": "stderr",
     "output_type": "stream",
     "text": [
      "Unable to create process using 'C:\\Users\\Yannick Ulmrich\\Anaconda3\\python.exe \"C:\\Users\\Yannick Ulmrich\\Anaconda3\\Scripts\\pip-script.py\" install statsmodels==0.11.1'\n"
     ]
    }
   ],
   "source": [
    "!pip install statsmodels==0.11.1"
   ]
  },
  {
   "cell_type": "code",
   "execution_count": 4,
   "metadata": {},
   "outputs": [],
   "source": [
    "from statsmodels.tsa.statespace.sarimax import SARIMAX\n",
    "import matplotlib.pyplot as plt"
   ]
  },
  {
   "cell_type": "code",
   "execution_count": 5,
   "metadata": {},
   "outputs": [
    {
     "data": {
      "text/plain": [
       "56"
      ]
     },
     "execution_count": 5,
     "metadata": {},
     "output_type": "execute_result"
    }
   ],
   "source": [
    "# Historical Free Cash Flows of SAP in the years Q1 2006 till Q4 2019 (in Million Dollars)\n",
    "sap_hist_fcf = [1049, 1246, 1666, 2437, 1111, 1372, 0, 2137, 1600, 2130, 2610, 2778, 1757, 0, 3396, 4234, 1003, 1636, 2432, 3505, 1997, 2935, 3771, 4391, 2715, 3084, 3826, 5040, 2856, 3241, 4027, 5280, 3223, 3532, 4090, 4751, 2671, 3070, 3606, 4041, 2738, 3300, 4047, 4884, 3061, 3866, 4848, 6065, 3169, 3560, 4051, 5082, 3183, 3689, 3916, 3292] \n",
    "len(sap_hist_fcf)"
   ]
  },
  {
   "cell_type": "code",
   "execution_count": 6,
   "metadata": {},
   "outputs": [
    {
     "data": {
      "text/plain": [
       "[<matplotlib.lines.Line2D at 0x24b6a0a6b48>]"
      ]
     },
     "execution_count": 6,
     "metadata": {},
     "output_type": "execute_result"
    },
    {
     "data": {
      "image/png": "[encoded data removed]",
      "text/plain": [
       "<Figure size 432x288 with 1 Axes>"
      ]
     },
     "metadata": {
      "needs_background": "light"
     },
     "output_type": "display_data"
    }
   ],
   "source": [
    "plt.plot(sap_hist_fcf)"
   ]
  },
  {
   "cell_type": "code",
   "execution_count": 16,
   "metadata": {},
   "outputs": [],
   "source": [
    "train, test = sap_hist_fcf[:-16], sap_hist_fcf[-16:]"
   ]
  },
  {
   "cell_type": "code",
   "execution_count": 17,
   "metadata": {},
   "outputs": [
    {
     "name": "stdout",
     "output_type": "stream",
     "text": [
      "Wall time: 56 ms\n"
     ]
    }
   ],
   "source": [
    "%%time\n",
    "model = SARIMAX(train, order=(1,0,0), seasonal_order=(0,1,1,4), seasonal=True)\n",
    "# Optional: trained_model = model.fit(cov_kwds={'approx_complex_step': True})\n",
    "trained_model = model.fit()"
   ]
  },
  {
   "cell_type": "code",
   "execution_count": 18,
   "metadata": {},
   "outputs": [
    {
     "data": {
      "text/html": [
       "<table class=\"simpletable\">\n",
       "<caption>SARIMAX Results</caption>\n",
       "<tr>\n",
       "  <th>Dep. Variable:</th>                  <td>y</td>                <th>  No. Observations:  </th>    <td>40</td>   \n",
       "</tr>\n",
       "<tr>\n",
       "  <th>Model:</th>           <td>SARIMAX(1, 0, 0)x(0, 1, [1], 4)</td> <th>  Log Likelihood     </th> <td>-293.860</td>\n",
       "</tr>\n",
       "<tr>\n",
       "  <th>Date:</th>                   <td>Mon, 18 May 2020</td>         <th>  AIC                </th>  <td>593.720</td>\n",
       "</tr>\n",
       "<tr>\n",
       "  <th>Time:</th>                       <td>18:12:39</td>             <th>  BIC                </th>  <td>598.471</td>\n",
       "</tr>\n",
       "<tr>\n",
       "  <th>Sample:</th>                         <td>0</td>                <th>  HQIC               </th>  <td>595.378</td>\n",
       "</tr>\n",
       "<tr>\n",
       "  <th></th>                              <td> - 40</td>              <th>                     </th>     <td> </td>   \n",
       "</tr>\n",
       "<tr>\n",
       "  <th>Covariance Type:</th>               <td>opg</td>               <th>                     </th>     <td> </td>   \n",
       "</tr>\n",
       "</table>\n",
       "<table class=\"simpletable\">\n",
       "<tr>\n",
       "     <td></td>        <th>coef</th>     <th>std err</th>      <th>z</th>      <th>P>|z|</th>  <th>[0.025</th>    <th>0.975]</th>  \n",
       "</tr>\n",
       "<tr>\n",
       "  <th>ar.L1</th>   <td>    0.3729</td> <td>    0.145</td> <td>    2.568</td> <td> 0.010</td> <td>    0.088</td> <td>    0.657</td>\n",
       "</tr>\n",
       "<tr>\n",
       "  <th>ma.S.L4</th> <td>   -0.4236</td> <td>    0.149</td> <td>   -2.841</td> <td> 0.004</td> <td>   -0.716</td> <td>   -0.131</td>\n",
       "</tr>\n",
       "<tr>\n",
       "  <th>sigma2</th>  <td> 7.048e+05</td> <td> 1.64e+05</td> <td>    4.308</td> <td> 0.000</td> <td> 3.84e+05</td> <td> 1.03e+06</td>\n",
       "</tr>\n",
       "</table>\n",
       "<table class=\"simpletable\">\n",
       "<tr>\n",
       "  <th>Ljung-Box (Q):</th>          <td>21.71</td> <th>  Jarque-Bera (JB):  </th> <td>2.03</td> \n",
       "</tr>\n",
       "<tr>\n",
       "  <th>Prob(Q):</th>                <td>0.96</td>  <th>  Prob(JB):          </th> <td>0.36</td> \n",
       "</tr>\n",
       "<tr>\n",
       "  <th>Heteroskedasticity (H):</th> <td>0.08</td>  <th>  Skew:              </th> <td>-0.19</td>\n",
       "</tr>\n",
       "<tr>\n",
       "  <th>Prob(H) (two-sided):</th>    <td>0.00</td>  <th>  Kurtosis:          </th> <td>4.10</td> \n",
       "</tr>\n",
       "</table><br/><br/>Warnings:<br/>[1] Covariance matrix calculated using the outer product of gradients (complex-step)."
      ],
      "text/plain": [
       "<class 'statsmodels.iolib.summary.Summary'>\n",
       "\"\"\"\n",
       "                                      SARIMAX Results                                      \n",
       "===========================================================================================\n",
       "Dep. Variable:                                   y   No. Observations:                   40\n",
       "Model:             SARIMAX(1, 0, 0)x(0, 1, [1], 4)   Log Likelihood                -293.860\n",
       "Date:                             Mon, 18 May 2020   AIC                            593.720\n",
       "Time:                                     18:12:39   BIC                            598.471\n",
       "Sample:                                          0   HQIC                           595.378\n",
       "                                              - 40                                         \n",
       "Covariance Type:                               opg                                         \n",
       "==============================================================================\n",
       "                 coef    std err          z      P>|z|      [0.025      0.975]\n",
       "------------------------------------------------------------------------------\n",
       "ar.L1          0.3729      0.145      2.568      0.010       0.088       0.657\n",
       "ma.S.L4       -0.4236      0.149     -2.841      0.004      -0.716      -0.131\n",
       "sigma2      7.048e+05   1.64e+05      4.308      0.000    3.84e+05    1.03e+06\n",
       "===================================================================================\n",
       "Ljung-Box (Q):                       21.71   Jarque-Bera (JB):                 2.03\n",
       "Prob(Q):                              0.96   Prob(JB):                         0.36\n",
       "Heteroskedasticity (H):               0.08   Skew:                            -0.19\n",
       "Prob(H) (two-sided):                  0.00   Kurtosis:                         4.10\n",
       "===================================================================================\n",
       "\n",
       "Warnings:\n",
       "[1] Covariance matrix calculated using the outer product of gradients (complex-step).\n",
       "\"\"\""
      ]
     },
     "execution_count": 18,
     "metadata": {},
     "output_type": "execute_result"
    }
   ],
   "source": [
    "trained_model.summary()"
   ]
  },
  {
   "cell_type": "code",
   "execution_count": 24,
   "metadata": {},
   "outputs": [
    {
     "name": "stdout",
     "output_type": "stream",
     "text": [
      "Wall time: 1 ms\n"
     ]
    }
   ],
   "source": [
    "%%time\n",
    "prediction = trained_model.predict(start=1, end=16)"
   ]
  },
  {
   "cell_type": "code",
   "execution_count": 25,
   "metadata": {},
   "outputs": [
    {
     "data": {
      "image/png": "[encoded data removed]",
      "text/plain": [
       "<Figure size 432x288 with 1 Axes>"
      ]
     },
     "metadata": {
      "needs_background": "light"
     },
     "output_type": "display_data"
    }
   ],
   "source": [
    "fig, ax = plt.subplots()\n",
    "plt.plot(test, label='actual')\n",
    "plt.plot(prediction, label='prediction')\n",
    "plt.legend(loc = 'best')\n",
    "plt.show()"
   ]
  },
  {
   "cell_type": "code",
   "execution_count": 26,
   "metadata": {},
   "outputs": [
    {
     "data": {
      "text/plain": [
       "array([ 182.47331222,  228.19014734,  260.51866612, 1295.38519954,\n",
       "       1040.67322711, 1416.1505671 , 1503.00233405, 1054.57277312,\n",
       "       1432.39644697,  817.00514747, 2856.45313622, 1611.59104818,\n",
       "       1896.54366934, 1069.99378697, 3102.83357634, 2237.48944493])"
      ]
     },
     "execution_count": 26,
     "metadata": {},
     "output_type": "execute_result"
    }
   ],
   "source": [
    "prediction"
   ]
  },
  {
   "cell_type": "code",
   "execution_count": null,
   "metadata": {},
   "outputs": [],
   "source": []
  }
 ],
 "metadata": {
  "kernelspec": {
   "display_name": "Python 3",
   "language": "python",
   "name": "python3"
  },
  "language_info": {
   "codemirror_mode": {
    "name": "ipython",
    "version": 3
   },
   "file_extension": ".py",
   "mimetype": "text/x-python",
   "name": "python",
   "nbconvert_exporter": "python",
   "pygments_lexer": "ipython3",
   "version": "3.7.4"
  }
 },
 "nbformat": 4,
 "nbformat_minor": 4
}
